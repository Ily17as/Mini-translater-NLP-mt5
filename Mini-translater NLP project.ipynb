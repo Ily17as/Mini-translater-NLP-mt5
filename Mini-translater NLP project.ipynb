{
 "nbformat": 4,
 "nbformat_minor": 0,
 "metadata": {
  "colab": {
   "provenance": [],
   "gpuType": "T4",
   "authorship_tag": "ABX9TyOVhxce4TymfQzSZuz59ar/"
  },
  "kernelspec": {
   "name": "python3",
   "display_name": "Python 3 (ipykernel)",
   "language": "python"
  },
  "language_info": {
   "name": "python"
  },
  "accelerator": "GPU",
  "widgets": {
   "application/vnd.jupyter.widget-state+json": {
    "9615fdab8cce41788b0e54e6c84e03c3": {
     "model_module": "@jupyter-widgets/controls",
     "model_name": "HBoxModel",
     "model_module_version": "1.5.0",
     "state": {
      "_dom_classes": [],
      "_model_module": "@jupyter-widgets/controls",
      "_model_module_version": "1.5.0",
      "_model_name": "HBoxModel",
      "_view_count": null,
      "_view_module": "@jupyter-widgets/controls",
      "_view_module_version": "1.5.0",
      "_view_name": "HBoxView",
      "box_style": "",
      "children": [
       "IPY_MODEL_3f794a9e4126469e8ef0b874834a749c",
       "IPY_MODEL_e187470d05c5417f89ba03a0efdd431c",
       "IPY_MODEL_5a4cd519dc684075a98d48e4a47df38a"
      ],
      "layout": "IPY_MODEL_be9c989fddfe4c8fbbc5108b8d1d2f67"
     }
    },
    "3f794a9e4126469e8ef0b874834a749c": {
     "model_module": "@jupyter-widgets/controls",
     "model_name": "HTMLModel",
     "model_module_version": "1.5.0",
     "state": {
      "_dom_classes": [],
      "_model_module": "@jupyter-widgets/controls",
      "_model_module_version": "1.5.0",
      "_model_name": "HTMLModel",
      "_view_count": null,
      "_view_module": "@jupyter-widgets/controls",
      "_view_module_version": "1.5.0",
      "_view_name": "HTMLView",
      "description": "",
      "description_tooltip": null,
      "layout": "IPY_MODEL_a2037eb3c9624116a9c7bbe98abb8b67",
      "placeholder": "​",
      "style": "IPY_MODEL_f442789434094398a2eb9a40de1f4487",
      "value": "config.json: 100%"
     }
    },
    "e187470d05c5417f89ba03a0efdd431c": {
     "model_module": "@jupyter-widgets/controls",
     "model_name": "FloatProgressModel",
     "model_module_version": "1.5.0",
     "state": {
      "_dom_classes": [],
      "_model_module": "@jupyter-widgets/controls",
      "_model_module_version": "1.5.0",
      "_model_name": "FloatProgressModel",
      "_view_count": null,
      "_view_module": "@jupyter-widgets/controls",
      "_view_module_version": "1.5.0",
      "_view_name": "ProgressView",
      "bar_style": "success",
      "description": "",
      "description_tooltip": null,
      "layout": "IPY_MODEL_3f2e594e21a84aa68a89de79e4d0db40",
      "max": 702,
      "min": 0,
      "orientation": "horizontal",
      "style": "IPY_MODEL_4dae62040d444dc9950cccf0be721558",
      "value": 702
     }
    },
    "5a4cd519dc684075a98d48e4a47df38a": {
     "model_module": "@jupyter-widgets/controls",
     "model_name": "HTMLModel",
     "model_module_version": "1.5.0",
     "state": {
      "_dom_classes": [],
      "_model_module": "@jupyter-widgets/controls",
      "_model_module_version": "1.5.0",
      "_model_name": "HTMLModel",
      "_view_count": null,
      "_view_module": "@jupyter-widgets/controls",
      "_view_module_version": "1.5.0",
      "_view_name": "HTMLView",
      "description": "",
      "description_tooltip": null,
      "layout": "IPY_MODEL_0f46e157274a4ee9a3c22dfce62429fb",
      "placeholder": "​",
      "style": "IPY_MODEL_d0bfaae940704b8d95cd7cc835d5e03b",
      "value": " 702/702 [00:00&lt;00:00, 28.1kB/s]"
     }
    },
    "be9c989fddfe4c8fbbc5108b8d1d2f67": {
     "model_module": "@jupyter-widgets/base",
     "model_name": "LayoutModel",
     "model_module_version": "1.2.0",
     "state": {
      "_model_module": "@jupyter-widgets/base",
      "_model_module_version": "1.2.0",
      "_model_name": "LayoutModel",
      "_view_count": null,
      "_view_module": "@jupyter-widgets/base",
      "_view_module_version": "1.2.0",
      "_view_name": "LayoutView",
      "align_content": null,
      "align_items": null,
      "align_self": null,
      "border": null,
      "bottom": null,
      "display": null,
      "flex": null,
      "flex_flow": null,
      "grid_area": null,
      "grid_auto_columns": null,
      "grid_auto_flow": null,
      "grid_auto_rows": null,
      "grid_column": null,
      "grid_gap": null,
      "grid_row": null,
      "grid_template_areas": null,
      "grid_template_columns": null,
      "grid_template_rows": null,
      "height": null,
      "justify_content": null,
      "justify_items": null,
      "left": null,
      "margin": null,
      "max_height": null,
      "max_width": null,
      "min_height": null,
      "min_width": null,
      "object_fit": null,
      "object_position": null,
      "order": null,
      "overflow": null,
      "overflow_x": null,
      "overflow_y": null,
      "padding": null,
      "right": null,
      "top": null,
      "visibility": null,
      "width": null
     }
    },
    "a2037eb3c9624116a9c7bbe98abb8b67": {
     "model_module": "@jupyter-widgets/base",
     "model_name": "LayoutModel",
     "model_module_version": "1.2.0",
     "state": {
      "_model_module": "@jupyter-widgets/base",
      "_model_module_version": "1.2.0",
      "_model_name": "LayoutModel",
      "_view_count": null,
      "_view_module": "@jupyter-widgets/base",
      "_view_module_version": "1.2.0",
      "_view_name": "LayoutView",
      "align_content": null,
      "align_items": null,
      "align_self": null,
      "border": null,
      "bottom": null,
      "display": null,
      "flex": null,
      "flex_flow": null,
      "grid_area": null,
      "grid_auto_columns": null,
      "grid_auto_flow": null,
      "grid_auto_rows": null,
      "grid_column": null,
      "grid_gap": null,
      "grid_row": null,
      "grid_template_areas": null,
      "grid_template_columns": null,
      "grid_template_rows": null,
      "height": null,
      "justify_content": null,
      "justify_items": null,
      "left": null,
      "margin": null,
      "max_height": null,
      "max_width": null,
      "min_height": null,
      "min_width": null,
      "object_fit": null,
      "object_position": null,
      "order": null,
      "overflow": null,
      "overflow_x": null,
      "overflow_y": null,
      "padding": null,
      "right": null,
      "top": null,
      "visibility": null,
      "width": null
     }
    },
    "f442789434094398a2eb9a40de1f4487": {
     "model_module": "@jupyter-widgets/controls",
     "model_name": "DescriptionStyleModel",
     "model_module_version": "1.5.0",
     "state": {
      "_model_module": "@jupyter-widgets/controls",
      "_model_module_version": "1.5.0",
      "_model_name": "DescriptionStyleModel",
      "_view_count": null,
      "_view_module": "@jupyter-widgets/base",
      "_view_module_version": "1.2.0",
      "_view_name": "StyleView",
      "description_width": ""
     }
    },
    "3f2e594e21a84aa68a89de79e4d0db40": {
     "model_module": "@jupyter-widgets/base",
     "model_name": "LayoutModel",
     "model_module_version": "1.2.0",
     "state": {
      "_model_module": "@jupyter-widgets/base",
      "_model_module_version": "1.2.0",
      "_model_name": "LayoutModel",
      "_view_count": null,
      "_view_module": "@jupyter-widgets/base",
      "_view_module_version": "1.2.0",
      "_view_name": "LayoutView",
      "align_content": null,
      "align_items": null,
      "align_self": null,
      "border": null,
      "bottom": null,
      "display": null,
      "flex": null,
      "flex_flow": null,
      "grid_area": null,
      "grid_auto_columns": null,
      "grid_auto_flow": null,
      "grid_auto_rows": null,
      "grid_column": null,
      "grid_gap": null,
      "grid_row": null,
      "grid_template_areas": null,
      "grid_template_columns": null,
      "grid_template_rows": null,
      "height": null,
      "justify_content": null,
      "justify_items": null,
      "left": null,
      "margin": null,
      "max_height": null,
      "max_width": null,
      "min_height": null,
      "min_width": null,
      "object_fit": null,
      "object_position": null,
      "order": null,
      "overflow": null,
      "overflow_x": null,
      "overflow_y": null,
      "padding": null,
      "right": null,
      "top": null,
      "visibility": null,
      "width": null
     }
    },
    "4dae62040d444dc9950cccf0be721558": {
     "model_module": "@jupyter-widgets/controls",
     "model_name": "ProgressStyleModel",
     "model_module_version": "1.5.0",
     "state": {
      "_model_module": "@jupyter-widgets/controls",
      "_model_module_version": "1.5.0",
      "_model_name": "ProgressStyleModel",
      "_view_count": null,
      "_view_module": "@jupyter-widgets/base",
      "_view_module_version": "1.2.0",
      "_view_name": "StyleView",
      "bar_color": null,
      "description_width": ""
     }
    },
    "0f46e157274a4ee9a3c22dfce62429fb": {
     "model_module": "@jupyter-widgets/base",
     "model_name": "LayoutModel",
     "model_module_version": "1.2.0",
     "state": {
      "_model_module": "@jupyter-widgets/base",
      "_model_module_version": "1.2.0",
      "_model_name": "LayoutModel",
      "_view_count": null,
      "_view_module": "@jupyter-widgets/base",
      "_view_module_version": "1.2.0",
      "_view_name": "LayoutView",
      "align_content": null,
      "align_items": null,
      "align_self": null,
      "border": null,
      "bottom": null,
      "display": null,
      "flex": null,
      "flex_flow": null,
      "grid_area": null,
      "grid_auto_columns": null,
      "grid_auto_flow": null,
      "grid_auto_rows": null,
      "grid_column": null,
      "grid_gap": null,
      "grid_row": null,
      "grid_template_areas": null,
      "grid_template_columns": null,
      "grid_template_rows": null,
      "height": null,
      "justify_content": null,
      "justify_items": null,
      "left": null,
      "margin": null,
      "max_height": null,
      "max_width": null,
      "min_height": null,
      "min_width": null,
      "object_fit": null,
      "object_position": null,
      "order": null,
      "overflow": null,
      "overflow_x": null,
      "overflow_y": null,
      "padding": null,
      "right": null,
      "top": null,
      "visibility": null,
      "width": null
     }
    },
    "d0bfaae940704b8d95cd7cc835d5e03b": {
     "model_module": "@jupyter-widgets/controls",
     "model_name": "DescriptionStyleModel",
     "model_module_version": "1.5.0",
     "state": {
      "_model_module": "@jupyter-widgets/controls",
      "_model_module_version": "1.5.0",
      "_model_name": "DescriptionStyleModel",
      "_view_count": null,
      "_view_module": "@jupyter-widgets/base",
      "_view_module_version": "1.2.0",
      "_view_name": "StyleView",
      "description_width": ""
     }
    },
    "17573763f1ab45c692a5c7857512ca84": {
     "model_module": "@jupyter-widgets/controls",
     "model_name": "HBoxModel",
     "model_module_version": "1.5.0",
     "state": {
      "_dom_classes": [],
      "_model_module": "@jupyter-widgets/controls",
      "_model_module_version": "1.5.0",
      "_model_name": "HBoxModel",
      "_view_count": null,
      "_view_module": "@jupyter-widgets/controls",
      "_view_module_version": "1.5.0",
      "_view_name": "HBoxView",
      "box_style": "",
      "children": [
       "IPY_MODEL_bf53aba45fbc4370a61a24e70ab2a5ea",
       "IPY_MODEL_04bd2cf1e49e4ebc82742b320a141aac",
       "IPY_MODEL_632b2709f9a642c98e57ff119b4d780a"
      ],
      "layout": "IPY_MODEL_156464454bf2472d81a85cc5ab3ad86c"
     }
    },
    "bf53aba45fbc4370a61a24e70ab2a5ea": {
     "model_module": "@jupyter-widgets/controls",
     "model_name": "HTMLModel",
     "model_module_version": "1.5.0",
     "state": {
      "_dom_classes": [],
      "_model_module": "@jupyter-widgets/controls",
      "_model_module_version": "1.5.0",
      "_model_name": "HTMLModel",
      "_view_count": null,
      "_view_module": "@jupyter-widgets/controls",
      "_view_module_version": "1.5.0",
      "_view_name": "HTMLView",
      "description": "",
      "description_tooltip": null,
      "layout": "IPY_MODEL_e5f004f4196341db9e6d2e05ae5cec6b",
      "placeholder": "​",
      "style": "IPY_MODEL_0c33c37027304e7286f9f5e75b2ea12b",
      "value": "tokenizer_config.json: 100%"
     }
    },
    "04bd2cf1e49e4ebc82742b320a141aac": {
     "model_module": "@jupyter-widgets/controls",
     "model_name": "FloatProgressModel",
     "model_module_version": "1.5.0",
     "state": {
      "_dom_classes": [],
      "_model_module": "@jupyter-widgets/controls",
      "_model_module_version": "1.5.0",
      "_model_name": "FloatProgressModel",
      "_view_count": null,
      "_view_module": "@jupyter-widgets/controls",
      "_view_module_version": "1.5.0",
      "_view_name": "ProgressView",
      "bar_style": "success",
      "description": "",
      "description_tooltip": null,
      "layout": "IPY_MODEL_0358866f6bb144dba4f4cf78b55560e5",
      "max": 376,
      "min": 0,
      "orientation": "horizontal",
      "style": "IPY_MODEL_264ca8eda8124fd98f41265f8a941a1e",
      "value": 376
     }
    },
    "632b2709f9a642c98e57ff119b4d780a": {
     "model_module": "@jupyter-widgets/controls",
     "model_name": "HTMLModel",
     "model_module_version": "1.5.0",
     "state": {
      "_dom_classes": [],
      "_model_module": "@jupyter-widgets/controls",
      "_model_module_version": "1.5.0",
      "_model_name": "HTMLModel",
      "_view_count": null,
      "_view_module": "@jupyter-widgets/controls",
      "_view_module_version": "1.5.0",
      "_view_name": "HTMLView",
      "description": "",
      "description_tooltip": null,
      "layout": "IPY_MODEL_39269654df9d432ebc9ee2d5556adb5f",
      "placeholder": "​",
      "style": "IPY_MODEL_a32bb4681c69475db07ecc22ebc06525",
      "value": " 376/376 [00:00&lt;00:00, 6.31kB/s]"
     }
    },
    "156464454bf2472d81a85cc5ab3ad86c": {
     "model_module": "@jupyter-widgets/base",
     "model_name": "LayoutModel",
     "model_module_version": "1.2.0",
     "state": {
      "_model_module": "@jupyter-widgets/base",
      "_model_module_version": "1.2.0",
      "_model_name": "LayoutModel",
      "_view_count": null,
      "_view_module": "@jupyter-widgets/base",
      "_view_module_version": "1.2.0",
      "_view_name": "LayoutView",
      "align_content": null,
      "align_items": null,
      "align_self": null,
      "border": null,
      "bottom": null,
      "display": null,
      "flex": null,
      "flex_flow": null,
      "grid_area": null,
      "grid_auto_columns": null,
      "grid_auto_flow": null,
      "grid_auto_rows": null,
      "grid_column": null,
      "grid_gap": null,
      "grid_row": null,
      "grid_template_areas": null,
      "grid_template_columns": null,
      "grid_template_rows": null,
      "height": null,
      "justify_content": null,
      "justify_items": null,
      "left": null,
      "margin": null,
      "max_height": null,
      "max_width": null,
      "min_height": null,
      "min_width": null,
      "object_fit": null,
      "object_position": null,
      "order": null,
      "overflow": null,
      "overflow_x": null,
      "overflow_y": null,
      "padding": null,
      "right": null,
      "top": null,
      "visibility": null,
      "width": null
     }
    },
    "e5f004f4196341db9e6d2e05ae5cec6b": {
     "model_module": "@jupyter-widgets/base",
     "model_name": "LayoutModel",
     "model_module_version": "1.2.0",
     "state": {
      "_model_module": "@jupyter-widgets/base",
      "_model_module_version": "1.2.0",
      "_model_name": "LayoutModel",
      "_view_count": null,
      "_view_module": "@jupyter-widgets/base",
      "_view_module_version": "1.2.0",
      "_view_name": "LayoutView",
      "align_content": null,
      "align_items": null,
      "align_self": null,
      "border": null,
      "bottom": null,
      "display": null,
      "flex": null,
      "flex_flow": null,
      "grid_area": null,
      "grid_auto_columns": null,
      "grid_auto_flow": null,
      "grid_auto_rows": null,
      "grid_column": null,
      "grid_gap": null,
      "grid_row": null,
      "grid_template_areas": null,
      "grid_template_columns": null,
      "grid_template_rows": null,
      "height": null,
      "justify_content": null,
      "justify_items": null,
      "left": null,
      "margin": null,
      "max_height": null,
      "max_width": null,
      "min_height": null,
      "min_width": null,
      "object_fit": null,
      "object_position": null,
      "order": null,
      "overflow": null,
      "overflow_x": null,
      "overflow_y": null,
      "padding": null,
      "right": null,
      "top": null,
      "visibility": null,
      "width": null
     }
    },
    "0c33c37027304e7286f9f5e75b2ea12b": {
     "model_module": "@jupyter-widgets/controls",
     "model_name": "DescriptionStyleModel",
     "model_module_version": "1.5.0",
     "state": {
      "_model_module": "@jupyter-widgets/controls",
      "_model_module_version": "1.5.0",
      "_model_name": "DescriptionStyleModel",
      "_view_count": null,
      "_view_module": "@jupyter-widgets/base",
      "_view_module_version": "1.2.0",
      "_view_name": "StyleView",
      "description_width": ""
     }
    },
    "0358866f6bb144dba4f4cf78b55560e5": {
     "model_module": "@jupyter-widgets/base",
     "model_name": "LayoutModel",
     "model_module_version": "1.2.0",
     "state": {
      "_model_module": "@jupyter-widgets/base",
      "_model_module_version": "1.2.0",
      "_model_name": "LayoutModel",
      "_view_count": null,
      "_view_module": "@jupyter-widgets/base",
      "_view_module_version": "1.2.0",
      "_view_name": "LayoutView",
      "align_content": null,
      "align_items": null,
      "align_self": null,
      "border": null,
      "bottom": null,
      "display": null,
      "flex": null,
      "flex_flow": null,
      "grid_area": null,
      "grid_auto_columns": null,
      "grid_auto_flow": null,
      "grid_auto_rows": null,
      "grid_column": null,
      "grid_gap": null,
      "grid_row": null,
      "grid_template_areas": null,
      "grid_template_columns": null,
      "grid_template_rows": null,
      "height": null,
      "justify_content": null,
      "justify_items": null,
      "left": null,
      "margin": null,
      "max_height": null,
      "max_width": null,
      "min_height": null,
      "min_width": null,
      "object_fit": null,
      "object_position": null,
      "order": null,
      "overflow": null,
      "overflow_x": null,
      "overflow_y": null,
      "padding": null,
      "right": null,
      "top": null,
      "visibility": null,
      "width": null
     }
    },
    "264ca8eda8124fd98f41265f8a941a1e": {
     "model_module": "@jupyter-widgets/controls",
     "model_name": "ProgressStyleModel",
     "model_module_version": "1.5.0",
     "state": {
      "_model_module": "@jupyter-widgets/controls",
      "_model_module_version": "1.5.0",
      "_model_name": "ProgressStyleModel",
      "_view_count": null,
      "_view_module": "@jupyter-widgets/base",
      "_view_module_version": "1.2.0",
      "_view_name": "StyleView",
      "bar_color": null,
      "description_width": ""
     }
    },
    "39269654df9d432ebc9ee2d5556adb5f": {
     "model_module": "@jupyter-widgets/base",
     "model_name": "LayoutModel",
     "model_module_version": "1.2.0",
     "state": {
      "_model_module": "@jupyter-widgets/base",
      "_model_module_version": "1.2.0",
      "_model_name": "LayoutModel",
      "_view_count": null,
      "_view_module": "@jupyter-widgets/base",
      "_view_module_version": "1.2.0",
      "_view_name": "LayoutView",
      "align_content": null,
      "align_items": null,
      "align_self": null,
      "border": null,
      "bottom": null,
      "display": null,
      "flex": null,
      "flex_flow": null,
      "grid_area": null,
      "grid_auto_columns": null,
      "grid_auto_flow": null,
      "grid_auto_rows": null,
      "grid_column": null,
      "grid_gap": null,
      "grid_row": null,
      "grid_template_areas": null,
      "grid_template_columns": null,
      "grid_template_rows": null,
      "height": null,
      "justify_content": null,
      "justify_items": null,
      "left": null,
      "margin": null,
      "max_height": null,
      "max_width": null,
      "min_height": null,
      "min_width": null,
      "object_fit": null,
      "object_position": null,
      "order": null,
      "overflow": null,
      "overflow_x": null,
      "overflow_y": null,
      "padding": null,
      "right": null,
      "top": null,
      "visibility": null,
      "width": null
     }
    },
    "a32bb4681c69475db07ecc22ebc06525": {
     "model_module": "@jupyter-widgets/controls",
     "model_name": "DescriptionStyleModel",
     "model_module_version": "1.5.0",
     "state": {
      "_model_module": "@jupyter-widgets/controls",
      "_model_module_version": "1.5.0",
      "_model_name": "DescriptionStyleModel",
      "_view_count": null,
      "_view_module": "@jupyter-widgets/base",
      "_view_module_version": "1.2.0",
      "_view_name": "StyleView",
      "description_width": ""
     }
    },
    "5b6bc1d040d14abfaee8c029dc7da0a8": {
     "model_module": "@jupyter-widgets/controls",
     "model_name": "HBoxModel",
     "model_module_version": "1.5.0",
     "state": {
      "_dom_classes": [],
      "_model_module": "@jupyter-widgets/controls",
      "_model_module_version": "1.5.0",
      "_model_name": "HBoxModel",
      "_view_count": null,
      "_view_module": "@jupyter-widgets/controls",
      "_view_module_version": "1.5.0",
      "_view_name": "HBoxView",
      "box_style": "",
      "children": [
       "IPY_MODEL_edbcb1e8896a4ebf90634228ff684b14",
       "IPY_MODEL_12b65a74bcb741a59eb1328c5ac15834",
       "IPY_MODEL_9205c0c41edb42ef84dc15d5cafccb62"
      ],
      "layout": "IPY_MODEL_4d092c624524401da7ed834f9cec1ccf"
     }
    },
    "edbcb1e8896a4ebf90634228ff684b14": {
     "model_module": "@jupyter-widgets/controls",
     "model_name": "HTMLModel",
     "model_module_version": "1.5.0",
     "state": {
      "_dom_classes": [],
      "_model_module": "@jupyter-widgets/controls",
      "_model_module_version": "1.5.0",
      "_model_name": "HTMLModel",
      "_view_count": null,
      "_view_module": "@jupyter-widgets/controls",
      "_view_module_version": "1.5.0",
      "_view_name": "HTMLView",
      "description": "",
      "description_tooltip": null,
      "layout": "IPY_MODEL_ce2fd148146d45c0a393e57a7641d5b6",
      "placeholder": "​",
      "style": "IPY_MODEL_828dea13a9e3460c981e532a23287544",
      "value": "spiece.model: 100%"
     }
    },
    "12b65a74bcb741a59eb1328c5ac15834": {
     "model_module": "@jupyter-widgets/controls",
     "model_name": "FloatProgressModel",
     "model_module_version": "1.5.0",
     "state": {
      "_dom_classes": [],
      "_model_module": "@jupyter-widgets/controls",
      "_model_module_version": "1.5.0",
      "_model_name": "FloatProgressModel",
      "_view_count": null,
      "_view_module": "@jupyter-widgets/controls",
      "_view_module_version": "1.5.0",
      "_view_name": "ProgressView",
      "bar_style": "success",
      "description": "",
      "description_tooltip": null,
      "layout": "IPY_MODEL_b9e5036561ce444497a8e05cc3a857b8",
      "max": 4309802,
      "min": 0,
      "orientation": "horizontal",
      "style": "IPY_MODEL_4e3f8eebf6bf46f68eb3837d41f9a62f",
      "value": 4309802
     }
    },
    "9205c0c41edb42ef84dc15d5cafccb62": {
     "model_module": "@jupyter-widgets/controls",
     "model_name": "HTMLModel",
     "model_module_version": "1.5.0",
     "state": {
      "_dom_classes": [],
      "_model_module": "@jupyter-widgets/controls",
      "_model_module_version": "1.5.0",
      "_model_name": "HTMLModel",
      "_view_count": null,
      "_view_module": "@jupyter-widgets/controls",
      "_view_module_version": "1.5.0",
      "_view_name": "HTMLView",
      "description": "",
      "description_tooltip": null,
      "layout": "IPY_MODEL_5cbeaaf18fd54e70a7c8664659c08b58",
      "placeholder": "​",
      "style": "IPY_MODEL_4d4c8c6deafa465cb6f79d8391b6fe43",
      "value": " 4.31M/4.31M [00:00&lt;00:00, 14.0MB/s]"
     }
    },
    "4d092c624524401da7ed834f9cec1ccf": {
     "model_module": "@jupyter-widgets/base",
     "model_name": "LayoutModel",
     "model_module_version": "1.2.0",
     "state": {
      "_model_module": "@jupyter-widgets/base",
      "_model_module_version": "1.2.0",
      "_model_name": "LayoutModel",
      "_view_count": null,
      "_view_module": "@jupyter-widgets/base",
      "_view_module_version": "1.2.0",
      "_view_name": "LayoutView",
      "align_content": null,
      "align_items": null,
      "align_self": null,
      "border": null,
      "bottom": null,
      "display": null,
      "flex": null,
      "flex_flow": null,
      "grid_area": null,
      "grid_auto_columns": null,
      "grid_auto_flow": null,
      "grid_auto_rows": null,
      "grid_column": null,
      "grid_gap": null,
      "grid_row": null,
      "grid_template_areas": null,
      "grid_template_columns": null,
      "grid_template_rows": null,
      "height": null,
      "justify_content": null,
      "justify_items": null,
      "left": null,
      "margin": null,
      "max_height": null,
      "max_width": null,
      "min_height": null,
      "min_width": null,
      "object_fit": null,
      "object_position": null,
      "order": null,
      "overflow": null,
      "overflow_x": null,
      "overflow_y": null,
      "padding": null,
      "right": null,
      "top": null,
      "visibility": null,
      "width": null
     }
    },
    "ce2fd148146d45c0a393e57a7641d5b6": {
     "model_module": "@jupyter-widgets/base",
     "model_name": "LayoutModel",
     "model_module_version": "1.2.0",
     "state": {
      "_model_module": "@jupyter-widgets/base",
      "_model_module_version": "1.2.0",
      "_model_name": "LayoutModel",
      "_view_count": null,
      "_view_module": "@jupyter-widgets/base",
      "_view_module_version": "1.2.0",
      "_view_name": "LayoutView",
      "align_content": null,
      "align_items": null,
      "align_self": null,
      "border": null,
      "bottom": null,
      "display": null,
      "flex": null,
      "flex_flow": null,
      "grid_area": null,
      "grid_auto_columns": null,
      "grid_auto_flow": null,
      "grid_auto_rows": null,
      "grid_column": null,
      "grid_gap": null,
      "grid_row": null,
      "grid_template_areas": null,
      "grid_template_columns": null,
      "grid_template_rows": null,
      "height": null,
      "justify_content": null,
      "justify_items": null,
      "left": null,
      "margin": null,
      "max_height": null,
      "max_width": null,
      "min_height": null,
      "min_width": null,
      "object_fit": null,
      "object_position": null,
      "order": null,
      "overflow": null,
      "overflow_x": null,
      "overflow_y": null,
      "padding": null,
      "right": null,
      "top": null,
      "visibility": null,
      "width": null
     }
    },
    "828dea13a9e3460c981e532a23287544": {
     "model_module": "@jupyter-widgets/controls",
     "model_name": "DescriptionStyleModel",
     "model_module_version": "1.5.0",
     "state": {
      "_model_module": "@jupyter-widgets/controls",
      "_model_module_version": "1.5.0",
      "_model_name": "DescriptionStyleModel",
      "_view_count": null,
      "_view_module": "@jupyter-widgets/base",
      "_view_module_version": "1.2.0",
      "_view_name": "StyleView",
      "description_width": ""
     }
    },
    "b9e5036561ce444497a8e05cc3a857b8": {
     "model_module": "@jupyter-widgets/base",
     "model_name": "LayoutModel",
     "model_module_version": "1.2.0",
     "state": {
      "_model_module": "@jupyter-widgets/base",
      "_model_module_version": "1.2.0",
      "_model_name": "LayoutModel",
      "_view_count": null,
      "_view_module": "@jupyter-widgets/base",
      "_view_module_version": "1.2.0",
      "_view_name": "LayoutView",
      "align_content": null,
      "align_items": null,
      "align_self": null,
      "border": null,
      "bottom": null,
      "display": null,
      "flex": null,
      "flex_flow": null,
      "grid_area": null,
      "grid_auto_columns": null,
      "grid_auto_flow": null,
      "grid_auto_rows": null,
      "grid_column": null,
      "grid_gap": null,
      "grid_row": null,
      "grid_template_areas": null,
      "grid_template_columns": null,
      "grid_template_rows": null,
      "height": null,
      "justify_content": null,
      "justify_items": null,
      "left": null,
      "margin": null,
      "max_height": null,
      "max_width": null,
      "min_height": null,
      "min_width": null,
      "object_fit": null,
      "object_position": null,
      "order": null,
      "overflow": null,
      "overflow_x": null,
      "overflow_y": null,
      "padding": null,
      "right": null,
      "top": null,
      "visibility": null,
      "width": null
     }
    },
    "4e3f8eebf6bf46f68eb3837d41f9a62f": {
     "model_module": "@jupyter-widgets/controls",
     "model_name": "ProgressStyleModel",
     "model_module_version": "1.5.0",
     "state": {
      "_model_module": "@jupyter-widgets/controls",
      "_model_module_version": "1.5.0",
      "_model_name": "ProgressStyleModel",
      "_view_count": null,
      "_view_module": "@jupyter-widgets/base",
      "_view_module_version": "1.2.0",
      "_view_name": "StyleView",
      "bar_color": null,
      "description_width": ""
     }
    },
    "5cbeaaf18fd54e70a7c8664659c08b58": {
     "model_module": "@jupyter-widgets/base",
     "model_name": "LayoutModel",
     "model_module_version": "1.2.0",
     "state": {
      "_model_module": "@jupyter-widgets/base",
      "_model_module_version": "1.2.0",
      "_model_name": "LayoutModel",
      "_view_count": null,
      "_view_module": "@jupyter-widgets/base",
      "_view_module_version": "1.2.0",
      "_view_name": "LayoutView",
      "align_content": null,
      "align_items": null,
      "align_self": null,
      "border": null,
      "bottom": null,
      "display": null,
      "flex": null,
      "flex_flow": null,
      "grid_area": null,
      "grid_auto_columns": null,
      "grid_auto_flow": null,
      "grid_auto_rows": null,
      "grid_column": null,
      "grid_gap": null,
      "grid_row": null,
      "grid_template_areas": null,
      "grid_template_columns": null,
      "grid_template_rows": null,
      "height": null,
      "justify_content": null,
      "justify_items": null,
      "left": null,
      "margin": null,
      "max_height": null,
      "max_width": null,
      "min_height": null,
      "min_width": null,
      "object_fit": null,
      "object_position": null,
      "order": null,
      "overflow": null,
      "overflow_x": null,
      "overflow_y": null,
      "padding": null,
      "right": null,
      "top": null,
      "visibility": null,
      "width": null
     }
    },
    "4d4c8c6deafa465cb6f79d8391b6fe43": {
     "model_module": "@jupyter-widgets/controls",
     "model_name": "DescriptionStyleModel",
     "model_module_version": "1.5.0",
     "state": {
      "_model_module": "@jupyter-widgets/controls",
      "_model_module_version": "1.5.0",
      "_model_name": "DescriptionStyleModel",
      "_view_count": null,
      "_view_module": "@jupyter-widgets/base",
      "_view_module_version": "1.2.0",
      "_view_name": "StyleView",
      "description_width": ""
     }
    },
    "e1fc7fcd73a64e9d916c303e33cddc4a": {
     "model_module": "@jupyter-widgets/controls",
     "model_name": "HBoxModel",
     "model_module_version": "1.5.0",
     "state": {
      "_dom_classes": [],
      "_model_module": "@jupyter-widgets/controls",
      "_model_module_version": "1.5.0",
      "_model_name": "HBoxModel",
      "_view_count": null,
      "_view_module": "@jupyter-widgets/controls",
      "_view_module_version": "1.5.0",
      "_view_name": "HBoxView",
      "box_style": "",
      "children": [
       "IPY_MODEL_499934bf608f4b1aa38e4137bd86cbc0",
       "IPY_MODEL_cb91fcc185a547b6807e9fed3b240c62",
       "IPY_MODEL_340d053209b446768a65f26fce9f2e5e"
      ],
      "layout": "IPY_MODEL_05331f550edb4502a51d90112b2a53e5"
     }
    },
    "499934bf608f4b1aa38e4137bd86cbc0": {
     "model_module": "@jupyter-widgets/controls",
     "model_name": "HTMLModel",
     "model_module_version": "1.5.0",
     "state": {
      "_dom_classes": [],
      "_model_module": "@jupyter-widgets/controls",
      "_model_module_version": "1.5.0",
      "_model_name": "HTMLModel",
      "_view_count": null,
      "_view_module": "@jupyter-widgets/controls",
      "_view_module_version": "1.5.0",
      "_view_name": "HTMLView",
      "description": "",
      "description_tooltip": null,
      "layout": "IPY_MODEL_efa3826d8bea4edab6d06435af9da3ab",
      "placeholder": "​",
      "style": "IPY_MODEL_9d0d9875c51d4e94907cd10850d619cc",
      "value": "special_tokens_map.json: 100%"
     }
    },
    "cb91fcc185a547b6807e9fed3b240c62": {
     "model_module": "@jupyter-widgets/controls",
     "model_name": "FloatProgressModel",
     "model_module_version": "1.5.0",
     "state": {
      "_dom_classes": [],
      "_model_module": "@jupyter-widgets/controls",
      "_model_module_version": "1.5.0",
      "_model_name": "FloatProgressModel",
      "_view_count": null,
      "_view_module": "@jupyter-widgets/controls",
      "_view_module_version": "1.5.0",
      "_view_name": "ProgressView",
      "bar_style": "success",
      "description": "",
      "description_tooltip": null,
      "layout": "IPY_MODEL_b22c37c9a5004314877907a5996a5879",
      "max": 65,
      "min": 0,
      "orientation": "horizontal",
      "style": "IPY_MODEL_4ed37f1cbb26402d93f7c74fc5a63bcd",
      "value": 65
     }
    },
    "340d053209b446768a65f26fce9f2e5e": {
     "model_module": "@jupyter-widgets/controls",
     "model_name": "HTMLModel",
     "model_module_version": "1.5.0",
     "state": {
      "_dom_classes": [],
      "_model_module": "@jupyter-widgets/controls",
      "_model_module_version": "1.5.0",
      "_model_name": "HTMLModel",
      "_view_count": null,
      "_view_module": "@jupyter-widgets/controls",
      "_view_module_version": "1.5.0",
      "_view_name": "HTMLView",
      "description": "",
      "description_tooltip": null,
      "layout": "IPY_MODEL_46509bc1f0e9450ea3b6483f3931268c",
      "placeholder": "​",
      "style": "IPY_MODEL_13fcc1008b984a81ae934e449aa2636a",
      "value": " 65.0/65.0 [00:00&lt;00:00, 1.44kB/s]"
     }
    },
    "05331f550edb4502a51d90112b2a53e5": {
     "model_module": "@jupyter-widgets/base",
     "model_name": "LayoutModel",
     "model_module_version": "1.2.0",
     "state": {
      "_model_module": "@jupyter-widgets/base",
      "_model_module_version": "1.2.0",
      "_model_name": "LayoutModel",
      "_view_count": null,
      "_view_module": "@jupyter-widgets/base",
      "_view_module_version": "1.2.0",
      "_view_name": "LayoutView",
      "align_content": null,
      "align_items": null,
      "align_self": null,
      "border": null,
      "bottom": null,
      "display": null,
      "flex": null,
      "flex_flow": null,
      "grid_area": null,
      "grid_auto_columns": null,
      "grid_auto_flow": null,
      "grid_auto_rows": null,
      "grid_column": null,
      "grid_gap": null,
      "grid_row": null,
      "grid_template_areas": null,
      "grid_template_columns": null,
      "grid_template_rows": null,
      "height": null,
      "justify_content": null,
      "justify_items": null,
      "left": null,
      "margin": null,
      "max_height": null,
      "max_width": null,
      "min_height": null,
      "min_width": null,
      "object_fit": null,
      "object_position": null,
      "order": null,
      "overflow": null,
      "overflow_x": null,
      "overflow_y": null,
      "padding": null,
      "right": null,
      "top": null,
      "visibility": null,
      "width": null
     }
    },
    "efa3826d8bea4edab6d06435af9da3ab": {
     "model_module": "@jupyter-widgets/base",
     "model_name": "LayoutModel",
     "model_module_version": "1.2.0",
     "state": {
      "_model_module": "@jupyter-widgets/base",
      "_model_module_version": "1.2.0",
      "_model_name": "LayoutModel",
      "_view_count": null,
      "_view_module": "@jupyter-widgets/base",
      "_view_module_version": "1.2.0",
      "_view_name": "LayoutView",
      "align_content": null,
      "align_items": null,
      "align_self": null,
      "border": null,
      "bottom": null,
      "display": null,
      "flex": null,
      "flex_flow": null,
      "grid_area": null,
      "grid_auto_columns": null,
      "grid_auto_flow": null,
      "grid_auto_rows": null,
      "grid_column": null,
      "grid_gap": null,
      "grid_row": null,
      "grid_template_areas": null,
      "grid_template_columns": null,
      "grid_template_rows": null,
      "height": null,
      "justify_content": null,
      "justify_items": null,
      "left": null,
      "margin": null,
      "max_height": null,
      "max_width": null,
      "min_height": null,
      "min_width": null,
      "object_fit": null,
      "object_position": null,
      "order": null,
      "overflow": null,
      "overflow_x": null,
      "overflow_y": null,
      "padding": null,
      "right": null,
      "top": null,
      "visibility": null,
      "width": null
     }
    },
    "9d0d9875c51d4e94907cd10850d619cc": {
     "model_module": "@jupyter-widgets/controls",
     "model_name": "DescriptionStyleModel",
     "model_module_version": "1.5.0",
     "state": {
      "_model_module": "@jupyter-widgets/controls",
      "_model_module_version": "1.5.0",
      "_model_name": "DescriptionStyleModel",
      "_view_count": null,
      "_view_module": "@jupyter-widgets/base",
      "_view_module_version": "1.2.0",
      "_view_name": "StyleView",
      "description_width": ""
     }
    },
    "b22c37c9a5004314877907a5996a5879": {
     "model_module": "@jupyter-widgets/base",
     "model_name": "LayoutModel",
     "model_module_version": "1.2.0",
     "state": {
      "_model_module": "@jupyter-widgets/base",
      "_model_module_version": "1.2.0",
      "_model_name": "LayoutModel",
      "_view_count": null,
      "_view_module": "@jupyter-widgets/base",
      "_view_module_version": "1.2.0",
      "_view_name": "LayoutView",
      "align_content": null,
      "align_items": null,
      "align_self": null,
      "border": null,
      "bottom": null,
      "display": null,
      "flex": null,
      "flex_flow": null,
      "grid_area": null,
      "grid_auto_columns": null,
      "grid_auto_flow": null,
      "grid_auto_rows": null,
      "grid_column": null,
      "grid_gap": null,
      "grid_row": null,
      "grid_template_areas": null,
      "grid_template_columns": null,
      "grid_template_rows": null,
      "height": null,
      "justify_content": null,
      "justify_items": null,
      "left": null,
      "margin": null,
      "max_height": null,
      "max_width": null,
      "min_height": null,
      "min_width": null,
      "object_fit": null,
      "object_position": null,
      "order": null,
      "overflow": null,
      "overflow_x": null,
      "overflow_y": null,
      "padding": null,
      "right": null,
      "top": null,
      "visibility": null,
      "width": null
     }
    },
    "4ed37f1cbb26402d93f7c74fc5a63bcd": {
     "model_module": "@jupyter-widgets/controls",
     "model_name": "ProgressStyleModel",
     "model_module_version": "1.5.0",
     "state": {
      "_model_module": "@jupyter-widgets/controls",
      "_model_module_version": "1.5.0",
      "_model_name": "ProgressStyleModel",
      "_view_count": null,
      "_view_module": "@jupyter-widgets/base",
      "_view_module_version": "1.2.0",
      "_view_name": "StyleView",
      "bar_color": null,
      "description_width": ""
     }
    },
    "46509bc1f0e9450ea3b6483f3931268c": {
     "model_module": "@jupyter-widgets/base",
     "model_name": "LayoutModel",
     "model_module_version": "1.2.0",
     "state": {
      "_model_module": "@jupyter-widgets/base",
      "_model_module_version": "1.2.0",
      "_model_name": "LayoutModel",
      "_view_count": null,
      "_view_module": "@jupyter-widgets/base",
      "_view_module_version": "1.2.0",
      "_view_name": "LayoutView",
      "align_content": null,
      "align_items": null,
      "align_self": null,
      "border": null,
      "bottom": null,
      "display": null,
      "flex": null,
      "flex_flow": null,
      "grid_area": null,
      "grid_auto_columns": null,
      "grid_auto_flow": null,
      "grid_auto_rows": null,
      "grid_column": null,
      "grid_gap": null,
      "grid_row": null,
      "grid_template_areas": null,
      "grid_template_columns": null,
      "grid_template_rows": null,
      "height": null,
      "justify_content": null,
      "justify_items": null,
      "left": null,
      "margin": null,
      "max_height": null,
      "max_width": null,
      "min_height": null,
      "min_width": null,
      "object_fit": null,
      "object_position": null,
      "order": null,
      "overflow": null,
      "overflow_x": null,
      "overflow_y": null,
      "padding": null,
      "right": null,
      "top": null,
      "visibility": null,
      "width": null
     }
    },
    "13fcc1008b984a81ae934e449aa2636a": {
     "model_module": "@jupyter-widgets/controls",
     "model_name": "DescriptionStyleModel",
     "model_module_version": "1.5.0",
     "state": {
      "_model_module": "@jupyter-widgets/controls",
      "_model_module_version": "1.5.0",
      "_model_name": "DescriptionStyleModel",
      "_view_count": null,
      "_view_module": "@jupyter-widgets/base",
      "_view_module_version": "1.2.0",
      "_view_name": "StyleView",
      "description_width": ""
     }
    }
   }
  }
 },
 "cells": [
  {
   "cell_type": "markdown",
   "source": [
    "#Introduction\n",
    "This is the project directed to the study in NLP field. The result of this work is the small model for translation words from RU to ENG and wiseverse. The project easyly can be extented to more complex translation model by extending dataset and adding new languages.\n",
    "\n",
    "The project is created in the process of studing basics of NN specially NLP models. The source of the content is the study course of N.E. Bauman Moscow State Technical University:\n",
    "\n",
    "Sourse: [Youtube](https://www.youtube.com/playlist?list=PLgtntV-BLRqgJRhcZHz8GtFC3j_F27IDg)\n",
    "\n",
    "Code: [GitHub](https://github.com/averkij/mstu-nlp-course)"
   ],
   "metadata": {
    "id": "td7IMi0h21yY"
   }
  },
  {
   "cell_type": "markdown",
   "source": [
    "#Setting up the env"
   ],
   "metadata": {
    "id": "W4vfFlk110Pa"
   }
  },
  {
   "cell_type": "code",
   "source": [
    "!nvidia-smi"
   ],
   "metadata": {
    "colab": {
     "base_uri": "https://localhost:8080/"
    },
    "id": "c5QjhqO1MC5I",
    "executionInfo": {
     "status": "ok",
     "timestamp": 1728490756823,
     "user_tz": -180,
     "elapsed": 1030,
     "user": {
      "displayName": "ilays Galiev",
      "userId": "01258399946315603416"
     }
    },
    "outputId": "2dedc06d-1a39-4f3f-9bf9-cb09438e0319",
    "ExecuteTime": {
     "end_time": "2024-10-10T06:38:36.216399Z",
     "start_time": "2024-10-10T06:38:34.458803Z"
    }
   },
   "outputs": [
    {
     "name": "stdout",
     "output_type": "stream",
     "text": [
      "Thu Oct 10 09:38:36 2024       \n",
      "+-----------------------------------------------------------------------------------------+\n",
      "| NVIDIA-SMI 565.90                 Driver Version: 565.90         CUDA Version: 12.7     |\n",
      "|-----------------------------------------+------------------------+----------------------+\n",
      "| GPU  Name                  Driver-Model | Bus-Id          Disp.A | Volatile Uncorr. ECC |\n",
      "| Fan  Temp   Perf          Pwr:Usage/Cap |           Memory-Usage | GPU-Util  Compute M. |\n",
      "|                                         |                        |               MIG M. |\n",
      "|=========================================+========================+======================|\n",
      "|   0  NVIDIA GeForce RTX 3060 ...  WDDM  |   00000000:01:00.0 Off |                  N/A |\n",
      "| N/A   39C    P0             16W /   75W |       0MiB /   6144MiB |      0%      Default |\n",
      "|                                         |                        |                  N/A |\n",
      "+-----------------------------------------+------------------------+----------------------+\n",
      "                                                                                         \n",
      "+-----------------------------------------------------------------------------------------+\n",
      "| Processes:                                                                              |\n",
      "|  GPU   GI   CI        PID   Type   Process name                              GPU Memory |\n",
      "|        ID   ID                                                               Usage      |\n",
      "|=========================================================================================|\n",
      "|  No running processes found                                                             |\n",
      "+-----------------------------------------------------------------------------------------+\n"
     ]
    }
   ],
   "execution_count": 1
  },
  {
   "cell_type": "markdown",
   "source": "It is important to have nvidia gpu in your execution environment and drivers to it installed because the model is running from cuda!!",
   "metadata": {
    "id": "k_cBWlHdEB1x"
   }
  },
  {
   "cell_type": "code",
   "source": [
    "!pip install transformers sentencepiece datasets translate-toolkit --quiet\n",
    "!pip install torch"
   ],
   "metadata": {
    "id": "5ADckioNxnEO",
    "ExecuteTime": {
     "end_time": "2024-10-10T06:38:40.790268Z",
     "start_time": "2024-10-10T06:38:40.663650Z"
    }
   },
   "outputs": [],
   "execution_count": 2
  },
  {
   "cell_type": "code",
   "source": [
    "import numpy as np\n",
    "import matplotlib.pyplot as plt\n",
    "import seaborn as sns\n",
    "from IPython.display import clear_output\n",
    "from IPython.utils import io\n",
    "import torch\n",
    "from torch import optim\n",
    "from torch.nn import functional as F\n",
    "\n",
    "with io.capture_output() as captured:\n",
    "  !pip install transformers sentencepiece\n",
    "\n",
    "from transformers import AdamW, AutoTokenizer, get_linear_schedule_with_warmup\n",
    "from tqdm.notebook import tqdm\n",
    "\n",
    "from transformers.models.mt5 import MT5Config, MT5ForConditionalGeneration\n",
    "\n",
    "sns.set()"
   ],
   "metadata": {
    "id": "d-QdtvJWxrQd",
    "ExecuteTime": {
     "end_time": "2024-10-10T06:38:45.798117Z",
     "start_time": "2024-10-10T06:38:41.353726Z"
    }
   },
   "outputs": [],
   "execution_count": 3
  },
  {
   "cell_type": "markdown",
   "source": [
    "#Preparing data"
   ],
   "metadata": {
    "id": "EjvHlFE-17kZ"
   }
  },
  {
   "cell_type": "markdown",
   "metadata": {
    "id": "FsJ-Hao9znQx"
   },
   "source": [
    "OPUS (https://opus.nlpl.eu/)\n",
    "\n",
    "![](https://www.sketchengine.eu/wp-content/uploads/opus_comparison_chart.png)"
   ]
  },
  {
   "metadata": {},
   "cell_type": "markdown",
   "source": "Here the code for getting the data from internet. Works with colab."
  },
  {
   "cell_type": "code",
   "metadata": {
    "colab": {
     "base_uri": "https://localhost:8080/"
    },
    "id": "NtnqLxgG8lHA",
    "executionInfo": {
     "status": "ok",
     "timestamp": 1728475587630,
     "user_tz": -180,
     "elapsed": 3130,
     "user": {
      "displayName": "ilays Galiev",
      "userId": "01258399946315603416"
     }
    },
    "outputId": "85ab131e-d788-4208-c0c7-26f3d4e48e1e",
    "ExecuteTime": {
     "end_time": "2024-10-10T06:27:00.547831Z",
     "start_time": "2024-10-10T06:27:00.501834Z"
    }
   },
   "source": "!wget https://object.pouta.csc.fi/OPUS-Tatoeba/v2021-07-22/tmx/en-ru.tmx.gz",
   "outputs": [
    {
     "name": "stderr",
     "output_type": "stream",
     "text": [
      "\"wget\" ­Ґ пў«пҐвбп ў­гваҐ­­Ґ© Ё«Ё ў­Ґи­Ґ©\n",
      "Є®¬ ­¤®©, ЁбЇ®«­пҐ¬®© Їа®Ја ¬¬®© Ё«Ё Ї ЄҐв­л¬ д ©«®¬.\n"
     ]
    }
   ],
   "execution_count": 1
  },
  {
   "cell_type": "code",
   "metadata": {
    "id": "SDj_iEwb-dyP",
    "ExecuteTime": {
     "end_time": "2024-10-10T06:27:03.423524Z",
     "start_time": "2024-10-10T06:27:03.378613Z"
    }
   },
   "source": "!gzip -d en-ru.tmx.gz",
   "outputs": [
    {
     "name": "stderr",
     "output_type": "stream",
     "text": [
      "\"gzip\" ­Ґ пў«пҐвбп ў­гваҐ­­Ґ© Ё«Ё ў­Ґи­Ґ©\n",
      "Є®¬ ­¤®©, ЁбЇ®«­пҐ¬®© Їа®Ја ¬¬®© Ё«Ё Ї ЄҐв­л¬ д ©«®¬.\n"
     ]
    }
   ],
   "execution_count": 2
  },
  {
   "metadata": {},
   "cell_type": "markdown",
   "source": "The preparation of data"
  },
  {
   "cell_type": "code",
   "metadata": {
    "id": "qms24oHA_ZU-",
    "executionInfo": {
     "status": "ok",
     "timestamp": 1728475589850,
     "user_tz": -180,
     "elapsed": 3,
     "user": {
      "displayName": "ilays Galiev",
      "userId": "01258399946315603416"
     }
    },
    "outputId": "61a29096-25b6-4bf5-81ca-e1e119d8cd74",
    "colab": {
     "base_uri": "https://localhost:8080/"
    },
    "collapsed": true,
    "ExecuteTime": {
     "end_time": "2024-10-10T06:38:54.830305Z",
     "start_time": "2024-10-10T06:38:54.819273Z"
    }
   },
   "source": [
    "with open(\"content/en-ru.tmx\", 'r', encoding=\"utf-8\") as input_file:\n",
    "  for x in range(50):\n",
    "    print(input_file.readline())"
   ],
   "outputs": [
    {
     "name": "stdout",
     "output_type": "stream",
     "text": [
      "<?xml version=\"1.0\" encoding=\"UTF-8\" ?>\n",
      "\n",
      "<tmx version=\"1.4\">\n",
      "\n",
      "<header creationdate=\"Thu Jul 22 19:16:34 2021\"\n",
      "\n",
      "          srclang=\"en\"\n",
      "\n",
      "          adminlang=\"en\"\n",
      "\n",
      "          o-tmf=\"unknown\"\n",
      "\n",
      "          segtype=\"sentence\"\n",
      "\n",
      "          creationtool=\"Uplug\"\n",
      "\n",
      "          creationtoolversion=\"unknown\"\n",
      "\n",
      "          datatype=\"PlainText\" />\n",
      "\n",
      "  <body>\n",
      "\n",
      "    <tu>\n",
      "\n",
      "      <tuv xml:lang=\"en\"><seg>For once in my life I'm doing a good deed... And it is useless. </seg></tuv>\n",
      "\n",
      "      <tuv xml:lang=\"ru\"><seg>Один раз в жизни я делаю хорошее дело... И оно бесполезно. </seg></tuv>\n",
      "\n",
      "    </tu>\n",
      "\n",
      "    <tu>\n",
      "\n",
      "      <tuv xml:lang=\"en\"><seg>Let's try something. </seg></tuv>\n",
      "\n",
      "      <tuv xml:lang=\"ru\"><seg>Давайте что-нибудь попробуем! </seg></tuv>\n",
      "\n",
      "    </tu>\n",
      "\n",
      "    <tu>\n",
      "\n",
      "      <tuv xml:lang=\"en\"><seg>Let's try something. </seg></tuv>\n",
      "\n",
      "      <tuv xml:lang=\"ru\"><seg>Давайте что-нибудь попробуем. </seg></tuv>\n",
      "\n",
      "    </tu>\n",
      "\n",
      "    <tu>\n",
      "\n",
      "      <tuv xml:lang=\"en\"><seg>I have to go to sleep. </seg></tuv>\n",
      "\n",
      "      <tuv xml:lang=\"ru\"><seg>Мне пора идти спать. </seg></tuv>\n",
      "\n",
      "    </tu>\n",
      "\n",
      "    <tu>\n",
      "\n",
      "      <tuv xml:lang=\"en\"><seg>I have to go to sleep. </seg></tuv>\n",
      "\n",
      "      <tuv xml:lang=\"ru\"><seg>Мне нужно идти спать. </seg></tuv>\n",
      "\n",
      "    </tu>\n",
      "\n",
      "    <tu>\n",
      "\n",
      "      <tuv xml:lang=\"en\"><seg>I have to go to sleep. </seg></tuv>\n",
      "\n",
      "      <tuv xml:lang=\"ru\"><seg>Я должен ложиться спать. </seg></tuv>\n",
      "\n",
      "    </tu>\n",
      "\n",
      "    <tu>\n",
      "\n",
      "      <tuv xml:lang=\"en\"><seg>Today is June 18th and it is Muiriel's birthday! </seg></tuv>\n",
      "\n",
      "      <tuv xml:lang=\"ru\"><seg>Сегодня 18 июня, и это день рождения Мюриэл! </seg></tuv>\n",
      "\n",
      "    </tu>\n",
      "\n",
      "    <tu>\n",
      "\n",
      "      <tuv xml:lang=\"en\"><seg>Muiriel is 20 now. </seg></tuv>\n",
      "\n",
      "      <tuv xml:lang=\"ru\"><seg>Мюриэл сейчас 20. </seg></tuv>\n",
      "\n",
      "    </tu>\n",
      "\n",
      "    <tu>\n",
      "\n",
      "      <tuv xml:lang=\"en\"><seg>The password is \"Muiriel\". </seg></tuv>\n",
      "\n",
      "      <tuv xml:lang=\"ru\"><seg>Пароль «Muiriel». </seg></tuv>\n",
      "\n",
      "    </tu>\n",
      "\n",
      "    <tu>\n",
      "\n",
      "      <tuv xml:lang=\"en\"><seg>I will be back soon. </seg></tuv>\n",
      "\n",
      "      <tuv xml:lang=\"ru\"><seg>Я скоро вернусь. </seg></tuv>\n",
      "\n"
     ]
    }
   ],
   "execution_count": 4
  },
  {
   "metadata": {
    "ExecuteTime": {
     "end_time": "2024-10-10T06:13:08.475849Z",
     "start_time": "2024-10-10T06:13:08.423001Z"
    }
   },
   "cell_type": "code",
   "source": "!pip install translate-toolkit",
   "outputs": [],
   "execution_count": 15
  },
  {
   "cell_type": "code",
   "metadata": {
    "id": "rR8ZN1pT-89l",
    "ExecuteTime": {
     "end_time": "2024-10-10T06:39:05.063286Z",
     "start_time": "2024-10-10T06:39:01.163173Z"
    }
   },
   "source": [
    "from translate.storage.tmx import tmxfile\n",
    "\n",
    "with open(\"content/en-ru.tmx\", 'rb') as input_file:\n",
    "  tmx_file = tmxfile(input_file, 'en', 'ru')"
   ],
   "outputs": [],
   "execution_count": 5
  },
  {
   "cell_type": "code",
   "metadata": {
    "id": "-9w0t5lI_PX0",
    "ExecuteTime": {
     "end_time": "2024-10-10T06:39:16.843529Z",
     "start_time": "2024-10-10T06:39:08.560028Z"
    }
   },
   "source": [
    "dataset = []\n",
    "\n",
    "for node in tmx_file.unit_iter():\n",
    "  dataset.append({'en': node.source, 'ru': node.target})"
   ],
   "outputs": [],
   "execution_count": 6
  },
  {
   "cell_type": "code",
   "metadata": {
    "colab": {
     "base_uri": "https://localhost:8080/"
    },
    "id": "JyHxarvxCyxf",
    "executionInfo": {
     "status": "ok",
     "timestamp": 1728475608909,
     "user_tz": -180,
     "elapsed": 5,
     "user": {
      "displayName": "ilays Galiev",
      "userId": "01258399946315603416"
     }
    },
    "outputId": "37c99d95-deef-465a-dbdb-45807cd5cfc3",
    "ExecuteTime": {
     "end_time": "2024-10-10T06:39:19.032370Z",
     "start_time": "2024-10-10T06:39:19.018451Z"
    }
   },
   "source": [
    "len(dataset)"
   ],
   "outputs": [
    {
     "data": {
      "text/plain": [
       "523629"
      ]
     },
     "execution_count": 7,
     "metadata": {},
     "output_type": "execute_result"
    }
   ],
   "execution_count": 7
  },
  {
   "cell_type": "markdown",
   "source": [
    "#Split dataset\n",
    "100.000 elements for training and 5.000 for tests."
   ],
   "metadata": {
    "id": "8PDKVlK-1pky"
   }
  },
  {
   "cell_type": "code",
   "metadata": {
    "id": "nR5dlLRMC7n-",
    "ExecuteTime": {
     "end_time": "2024-10-10T06:39:22.368889Z",
     "start_time": "2024-10-10T06:39:22.352424Z"
    }
   },
   "source": [
    "train_dataset = dataset[:100000]\n",
    "test_dataset = dataset[100000:105000]"
   ],
   "outputs": [],
   "execution_count": 8
  },
  {
   "cell_type": "markdown",
   "source": [
    "#Examples of elements"
   ],
   "metadata": {
    "id": "ag6T5rzS0uj2"
   }
  },
  {
   "cell_type": "code",
   "metadata": {
    "colab": {
     "base_uri": "https://localhost:8080/"
    },
    "id": "km76d8aLpBX9",
    "executionInfo": {
     "status": "ok",
     "timestamp": 1728475608910,
     "user_tz": -180,
     "elapsed": 4,
     "user": {
      "displayName": "ilays Galiev",
      "userId": "01258399946315603416"
     }
    },
    "outputId": "80255574-d355-42af-e614-cd60d638bd5f",
    "ExecuteTime": {
     "end_time": "2024-10-10T06:39:25.597822Z",
     "start_time": "2024-10-10T06:39:25.577672Z"
    }
   },
   "source": [
    "import random\n",
    "\n",
    "for i in range(10):\n",
    "  k = random.randint(0, 100000)\n",
    "  print(dataset[k])"
   ],
   "outputs": [
    {
     "name": "stdout",
     "output_type": "stream",
     "text": [
      "{'en': 'I pledged my loyalty to him. ', 'ru': 'Я заверил его в своей преданности. '}\n",
      "{'en': 'You had better not go there again. ', 'ru': 'Ты бы лучше не ходил снова туда. '}\n",
      "{'en': 'I feel like eating something sweet. ', 'ru': 'Мне хочется чего-нибудь сладкого. '}\n",
      "{'en': 'Wages vary in relation to the age of the worker. ', 'ru': 'Заработок варьируется в зависимости от возраста работника. '}\n",
      "{'en': 'I play tennis every day. ', 'ru': 'Я играю в теннис каждый день. '}\n",
      "{'en': \"The lake has frozen over but I'm not sure the ice is strong enough to walk on. \", 'ru': 'Озеро замёрзло, но я не уверен, что лёд достаточно прочный, чтобы по нему ходить. '}\n",
      "{'en': \"It won't hurt. \", 'ru': 'Болеть не будет. '}\n",
      "{'en': 'I like you a lot. ', 'ru': 'Ты мне очень нравишься. '}\n",
      "{'en': 'Maybe he will be a good teacher. ', 'ru': 'Может быть, он будет хорошим учителем. '}\n",
      "{'en': 'When are you going home? ', 'ru': 'Когда идёшь домой? '}\n"
     ]
    }
   ],
   "execution_count": 9
  },
  {
   "cell_type": "markdown",
   "source": [
    "#Preparing model"
   ],
   "metadata": {
    "id": "rj-30cXT2DNj"
   }
  },
  {
   "cell_type": "markdown",
   "source": [
    "**Using open sourse model:**\n",
    "\n",
    "Sourse: [A Massively Multilingual Pre-trained Text-to-Text Transformer](https://www.google.com/url?q=https%3A%2F%2Faclanthology.org%2F2021.naacl-main.41%2F)\n",
    "\n",
    "Code: [GitHub](https://github.com/google-research/multilingual-t5)"
   ],
   "metadata": {
    "id": "EOVqti2_2bIP"
   }
  },
  {
   "cell_type": "code",
   "source": [
    "model_repo = 'google/mt5-base'\n",
    "\n",
    "config = MT5Config.from_pretrained(model_repo)"
   ],
   "metadata": {
    "id": "gtAmZwLd2WBR",
    "colab": {
     "base_uri": "https://localhost:8080/",
     "height": 173,
     "referenced_widgets": [
      "9615fdab8cce41788b0e54e6c84e03c3",
      "3f794a9e4126469e8ef0b874834a749c",
      "e187470d05c5417f89ba03a0efdd431c",
      "5a4cd519dc684075a98d48e4a47df38a",
      "be9c989fddfe4c8fbbc5108b8d1d2f67",
      "a2037eb3c9624116a9c7bbe98abb8b67",
      "f442789434094398a2eb9a40de1f4487",
      "3f2e594e21a84aa68a89de79e4d0db40",
      "4dae62040d444dc9950cccf0be721558",
      "0f46e157274a4ee9a3c22dfce62429fb",
      "d0bfaae940704b8d95cd7cc835d5e03b"
     ]
    },
    "executionInfo": {
     "status": "ok",
     "timestamp": 1728475662209,
     "user_tz": -180,
     "elapsed": 1673,
     "user": {
      "displayName": "ilays Galiev",
      "userId": "01258399946315603416"
     }
    },
    "outputId": "3f6c3f17-732d-4774-f3df-69534c429d4a",
    "ExecuteTime": {
     "end_time": "2024-10-10T06:39:31.294272Z",
     "start_time": "2024-10-10T06:39:30.861730Z"
    }
   },
   "outputs": [],
   "execution_count": 10
  },
  {
   "cell_type": "code",
   "source": [
    "config.max_length"
   ],
   "metadata": {
    "colab": {
     "base_uri": "https://localhost:8080/"
    },
    "id": "VD2DY_UtK2FU",
    "executionInfo": {
     "status": "ok",
     "timestamp": 1728475683322,
     "user_tz": -180,
     "elapsed": 287,
     "user": {
      "displayName": "ilays Galiev",
      "userId": "01258399946315603416"
     }
    },
    "outputId": "d8d76172-e1cd-48e8-c896-6be9c66af0b0",
    "ExecuteTime": {
     "end_time": "2024-10-10T06:39:32.406043Z",
     "start_time": "2024-10-10T06:39:32.396043Z"
    }
   },
   "outputs": [
    {
     "data": {
      "text/plain": [
       "20"
      ]
     },
     "execution_count": 11,
     "metadata": {},
     "output_type": "execute_result"
    }
   ],
   "execution_count": 11
  },
  {
   "cell_type": "code",
   "source": [
    "max_seq_len = config.max_length"
   ],
   "metadata": {
    "id": "TVMuExx5LddP",
    "ExecuteTime": {
     "end_time": "2024-10-10T06:39:33.063389Z",
     "start_time": "2024-10-10T06:39:33.046389Z"
    }
   },
   "outputs": [],
   "execution_count": 12
  },
  {
   "metadata": {
    "ExecuteTime": {
     "end_time": "2024-10-10T06:39:33.810320Z",
     "start_time": "2024-10-10T06:39:33.715322Z"
    }
   },
   "cell_type": "code",
   "source": [
    "!pip install sentencepiece\n",
    "!pip install protobuf"
   ],
   "outputs": [],
   "execution_count": 13
  },
  {
   "cell_type": "code",
   "source": "tokenizer = AutoTokenizer.from_pretrained(model_repo)",
   "metadata": {
    "colab": {
     "base_uri": "https://localhost:8080/",
     "height": 220,
     "referenced_widgets": [
      "17573763f1ab45c692a5c7857512ca84",
      "bf53aba45fbc4370a61a24e70ab2a5ea",
      "04bd2cf1e49e4ebc82742b320a141aac",
      "632b2709f9a642c98e57ff119b4d780a",
      "156464454bf2472d81a85cc5ab3ad86c",
      "e5f004f4196341db9e6d2e05ae5cec6b",
      "0c33c37027304e7286f9f5e75b2ea12b",
      "0358866f6bb144dba4f4cf78b55560e5",
      "264ca8eda8124fd98f41265f8a941a1e",
      "39269654df9d432ebc9ee2d5556adb5f",
      "a32bb4681c69475db07ecc22ebc06525",
      "5b6bc1d040d14abfaee8c029dc7da0a8",
      "edbcb1e8896a4ebf90634228ff684b14",
      "12b65a74bcb741a59eb1328c5ac15834",
      "9205c0c41edb42ef84dc15d5cafccb62",
      "4d092c624524401da7ed834f9cec1ccf",
      "ce2fd148146d45c0a393e57a7641d5b6",
      "828dea13a9e3460c981e532a23287544",
      "b9e5036561ce444497a8e05cc3a857b8",
      "4e3f8eebf6bf46f68eb3837d41f9a62f",
      "5cbeaaf18fd54e70a7c8664659c08b58",
      "4d4c8c6deafa465cb6f79d8391b6fe43",
      "e1fc7fcd73a64e9d916c303e33cddc4a",
      "499934bf608f4b1aa38e4137bd86cbc0",
      "cb91fcc185a547b6807e9fed3b240c62",
      "340d053209b446768a65f26fce9f2e5e",
      "05331f550edb4502a51d90112b2a53e5",
      "efa3826d8bea4edab6d06435af9da3ab",
      "9d0d9875c51d4e94907cd10850d619cc",
      "b22c37c9a5004314877907a5996a5879",
      "4ed37f1cbb26402d93f7c74fc5a63bcd",
      "46509bc1f0e9450ea3b6483f3931268c",
      "13fcc1008b984a81ae934e449aa2636a"
     ]
    },
    "id": "T7OjFtQkLfJL",
    "executionInfo": {
     "status": "ok",
     "timestamp": 1728475712984,
     "user_tz": -180,
     "elapsed": 6964,
     "user": {
      "displayName": "ilays Galiev",
      "userId": "01258399946315603416"
     }
    },
    "outputId": "39de2571-c50a-456f-ef28-7dbb12213f30",
    "ExecuteTime": {
     "end_time": "2024-10-10T06:39:36.947408Z",
     "start_time": "2024-10-10T06:39:34.491815Z"
    }
   },
   "outputs": [
    {
     "name": "stderr",
     "output_type": "stream",
     "text": [
      "You are using the default legacy behaviour of the <class 'transformers.models.t5.tokenization_t5.T5Tokenizer'>. This is expected, and simply means that the `legacy` (previous) behavior will be used so nothing changes for you. If you want to use the new behaviour, set `legacy=False`. This should only be set if you understand what it means, and thoroughly read the reason why this was added as explained in https://github.com/huggingface/transformers/pull/24565\n",
      "C:\\Users\\Admin\\Desktop\\Питон\\fine\\.venv\\lib\\site-packages\\transformers\\convert_slow_tokenizer.py:558: UserWarning: The sentencepiece tokenizer that you are converting to a fast tokenizer uses the byte fallback option which is not implemented in the fast tokenizers. In practice this means that the fast version of the tokenizer can produce unknown tokens whereas the sentencepiece version would have converted these unknown tokens into a sequence of byte tokens matching the original piece of text.\n",
      "  warnings.warn(\n"
     ]
    }
   ],
   "execution_count": 14
  },
  {
   "metadata": {
    "ExecuteTime": {
     "end_time": "2024-10-10T06:39:50.969003Z",
     "start_time": "2024-10-10T06:39:49.407176Z"
    }
   },
   "cell_type": "code",
   "source": "print(torch.cuda.is_available())",
   "outputs": [
    {
     "name": "stdout",
     "output_type": "stream",
     "text": [
      "True\n"
     ]
    }
   ],
   "execution_count": 15
  },
  {
   "metadata": {
    "ExecuteTime": {
     "end_time": "2024-10-10T06:32:50.883873Z",
     "start_time": "2024-10-10T06:32:50.824717Z"
    }
   },
   "cell_type": "code",
   "source": "!pip install torch torchvision torchaudio --index-url https://download.pytorch.org/whl/cu118",
   "outputs": [],
   "execution_count": 20
  },
  {
   "cell_type": "code",
   "source": [
    "model = MT5ForConditionalGeneration.from_pretrained(model_repo)\n",
    "model = model.cuda()"
   ],
   "metadata": {
    "colab": {
     "base_uri": "https://localhost:8080/",
     "height": 341
    },
    "id": "cRrMgGbNLjEC",
    "executionInfo": {
     "status": "error",
     "timestamp": 1728475793899,
     "user_tz": -180,
     "elapsed": 5776,
     "user": {
      "displayName": "ilays Galiev",
      "userId": "01258399946315603416"
     }
    },
    "outputId": "376e8b65-4807-46d5-dbc2-5064f24b4996",
    "ExecuteTime": {
     "end_time": "2024-10-10T06:40:01.225458Z",
     "start_time": "2024-10-10T06:39:54.536119Z"
    }
   },
   "outputs": [],
   "execution_count": 16
  },
  {
   "cell_type": "markdown",
   "source": [
    "#Adding special tokens"
   ],
   "metadata": {
    "id": "AvPTCcprOg0o"
   }
  },
  {
   "cell_type": "code",
   "source": [
    "LANG_TOKEN_MAPPING = {\n",
    "    'ru': '<ru>',\n",
    "    'en': '<en>'\n",
    "}"
   ],
   "metadata": {
    "id": "z3rsZwHpOnDz",
    "ExecuteTime": {
     "end_time": "2024-10-10T06:40:05.694903Z",
     "start_time": "2024-10-10T06:40:05.684904Z"
    }
   },
   "outputs": [],
   "execution_count": 17
  },
  {
   "cell_type": "code",
   "source": [
    "special_tokens_dict = {'additional_special_tokens': list(LANG_TOKEN_MAPPING.values())}\n",
    "tokenizer.add_special_tokens(special_tokens_dict)\n",
    "model.resize_token_embeddings(len(tokenizer))"
   ],
   "metadata": {
    "colab": {
     "base_uri": "https://localhost:8080/"
    },
    "id": "47j9byMIOwxu",
    "executionInfo": {
     "status": "ok",
     "timestamp": 1728476646183,
     "user_tz": -180,
     "elapsed": 3,
     "user": {
      "displayName": "ilays Galiev",
      "userId": "01258399946315603416"
     }
    },
    "outputId": "48b24d69-e84c-4602-98bc-733e72789b24",
    "ExecuteTime": {
     "end_time": "2024-10-10T06:40:08.256318Z",
     "start_time": "2024-10-10T06:40:07.918056Z"
    }
   },
   "outputs": [
    {
     "data": {
      "text/plain": [
       "Embedding(250102, 768)"
      ]
     },
     "execution_count": 18,
     "metadata": {},
     "output_type": "execute_result"
    }
   ],
   "execution_count": 18
  },
  {
   "cell_type": "code",
   "source": [
    "example_input_str = '<ru>Давайте токенизируем это предложение.'\n",
    "input_ids = tokenizer.encode(example_input_str,\n",
    "                             return_tensors='pt',\n",
    "                             padding='max_length',\n",
    "                             truncation=True,\n",
    "                             max_length=max_seq_len)\n",
    "print(input_ids)\n",
    "\n",
    "tokens = tokenizer.convert_ids_to_tokens(input_ids[0])\n",
    "print(tokens)"
   ],
   "metadata": {
    "colab": {
     "base_uri": "https://localhost:8080/"
    },
    "id": "pyxwmdScO1WE",
    "executionInfo": {
     "status": "ok",
     "timestamp": 1728476646183,
     "user_tz": -180,
     "elapsed": 2,
     "user": {
      "displayName": "ilays Galiev",
      "userId": "01258399946315603416"
     }
    },
    "outputId": "b15ae699-1590-46b2-a981-8dde79fa9309",
    "ExecuteTime": {
     "end_time": "2024-10-10T06:40:11.725204Z",
     "start_time": "2024-10-10T06:40:11.687241Z"
    }
   },
   "outputs": [
    {
     "name": "stdout",
     "output_type": "stream",
     "text": [
      "tensor([[250100,   3348,  36456,   1049,   1625,  42547,  76660,   1436,  44616,\n",
      "            324,    260,      1,      0,      0,      0,      0,      0,      0,\n",
      "              0,      0]])\n",
      "['<ru>', '▁Да', 'вайте', '▁то', 'ке', 'низ', 'ируем', '▁это', '▁предложени', 'е', '.', '</s>', '<pad>', '<pad>', '<pad>', '<pad>', '<pad>', '<pad>', '<pad>', '<pad>']\n"
     ]
    }
   ],
   "execution_count": 19
  },
  {
   "cell_type": "code",
   "source": [
    "def encode_input_str(text, target_lang, tokenizer, seq_len,\n",
    "                     lang_token_map=LANG_TOKEN_MAPPING):\n",
    "  target_lang_token = lang_token_map[target_lang]\n",
    "\n",
    "  # Tokenize and add special tokens\n",
    "  input_ids = tokenizer.encode(\n",
    "      text = target_lang_token + text,\n",
    "      return_tensors = 'pt',\n",
    "      padding = 'max_length',\n",
    "      truncation = True,\n",
    "      max_length = seq_len)\n",
    "\n",
    "  return input_ids[0]\n",
    "\n",
    "def encode_target_str(text, tokenizer, seq_len):\n",
    "  token_ids = tokenizer.encode(\n",
    "      text = text,\n",
    "      return_tensors = 'pt',\n",
    "      padding = 'max_length',\n",
    "      truncation = True,\n",
    "      max_length = seq_len)\n",
    "\n",
    "  return token_ids[0]\n",
    "\n",
    "def format_translation_data(translations, lang_token_map,\n",
    "                            tokenizer, seq_len=128):\n",
    "  # Choose a random 2 languages for in i/o\n",
    "  langs = list(lang_token_map.keys())\n",
    "  input_lang, target_lang = np.random.choice(langs, size=2, replace=False)\n",
    "\n",
    "  # Get the translations for the batch\n",
    "  input_text = translations[input_lang]\n",
    "  target_text = translations[target_lang]\n",
    "\n",
    "  if input_text is None or target_text is None:\n",
    "    return None\n",
    "\n",
    "  input_token_ids = encode_input_str(input_text, target_lang, tokenizer, seq_len, lang_token_map)\n",
    "  target_token_ids = encode_target_str(target_text, tokenizer, seq_len)\n",
    "\n",
    "  return input_token_ids, target_token_ids\n",
    "\n",
    "def transform_batch(batch, lang_token_map, tokenizer):\n",
    "  inputs = []\n",
    "  targets = []\n",
    "  for translation_set in batch:\n",
    "    formatted_data = format_translation_data(translation_set, lang_token_map, tokenizer, max_seq_len)\n",
    "\n",
    "    if formatted_data is None:\n",
    "      continue\n",
    "\n",
    "    input_ids, target_ids = formatted_data\n",
    "    inputs.append(input_ids.unsqueeze(0))\n",
    "    targets.append(target_ids.unsqueeze(0))\n",
    "\n",
    "  batch_input_ids = torch.cat(inputs).cuda()\n",
    "  batch_target_ids = torch.cat(targets).cuda()\n",
    "\n",
    "  return batch_input_ids, batch_target_ids\n",
    "\n",
    "def get_data(dataset, lang_token_map, tokenizer, batch_size=32):\n",
    "  np.random.shuffle(dataset)\n",
    "  for i in range(0, len(dataset), batch_size):\n",
    "    raw_batch = dataset[i:i+batch_size]\n",
    "\n",
    "    yield transform_batch(raw_batch, lang_token_map, tokenizer)"
   ],
   "metadata": {
    "id": "Oryy3uTPO4Wk",
    "ExecuteTime": {
     "end_time": "2024-10-10T06:40:18.414618Z",
     "start_time": "2024-10-10T06:40:18.402103Z"
    }
   },
   "outputs": [],
   "execution_count": 20
  },
  {
   "cell_type": "markdown",
   "source": [
    "#Load pretrained"
   ],
   "metadata": {
    "id": "JimiK_zSxyVJ"
   }
  },
  {
   "cell_type": "code",
   "source": [
    "model_path = 'content/mt5_translation_example.pt'\n",
    "model_path_last = 'content/mt5_translation_example_last.pt'"
   ],
   "metadata": {
    "id": "fm5Ha5IUx2dx",
    "ExecuteTime": {
     "end_time": "2024-10-10T06:53:29.255572Z",
     "start_time": "2024-10-10T06:53:29.248765Z"
    }
   },
   "outputs": [],
   "execution_count": 21
  },
  {
   "cell_type": "markdown",
   "source": [
    "#Train"
   ],
   "metadata": {
    "id": "r5jvg2e9x53Q"
   }
  },
  {
   "cell_type": "code",
   "source": [
    "n_epochs = 5\n",
    "batch_size = 20\n",
    "print_freq = 100\n",
    "\n",
    "lr = 5e-4\n",
    "\n",
    "checkpoint_freq = 1000\n",
    "\n",
    "n_batches = int(np.ceil(len(train_dataset) / batch_size))\n",
    "total_steps = n_epochs * n_batches\n",
    "n_warmup_steps = int(total_steps * 0.01)\n",
    "\n",
    "print(\"n_batches\", n_batches)\n",
    "print(\"total_steps\", total_steps)\n",
    "print(\"n_warmup_steps\", n_warmup_steps)"
   ],
   "metadata": {
    "id": "jkop_a6Ex76G",
    "ExecuteTime": {
     "end_time": "2024-10-10T06:53:50.398074Z",
     "start_time": "2024-10-10T06:53:50.378334Z"
    }
   },
   "outputs": [
    {
     "name": "stdout",
     "output_type": "stream",
     "text": [
      "n_batches 5000\n",
      "total_steps 25000\n",
      "n_warmup_steps 250\n"
     ]
    }
   ],
   "execution_count": 22
  },
  {
   "cell_type": "code",
   "source": [
    "optimizer = AdamW(model.parameters(), lr=lr)\n",
    "scheduler = get_linear_schedule_with_warmup(optimizer, n_warmup_steps, total_steps)\n",
    "\n",
    "losses = []\n",
    "test_losses = []"
   ],
   "metadata": {
    "id": "DU-R8LNgx-AK",
    "ExecuteTime": {
     "end_time": "2024-10-10T06:53:52.348929Z",
     "start_time": "2024-10-10T06:53:52.009906Z"
    }
   },
   "outputs": [
    {
     "name": "stderr",
     "output_type": "stream",
     "text": [
      "C:\\Users\\Admin\\Desktop\\Питон\\fine\\.venv\\lib\\site-packages\\transformers\\optimization.py:591: FutureWarning: This implementation of AdamW is deprecated and will be removed in a future version. Use the PyTorch implementation torch.optim.AdamW instead, or set `no_deprecation_warning=True` to disable this warning\n",
      "  warnings.warn(\n"
     ]
    }
   ],
   "execution_count": 23
  },
  {
   "cell_type": "code",
   "source": [
    "def eval_model(model, dataset, max_iters=8):\n",
    "  test_generator = get_data(dataset, LANG_TOKEN_MAPPING,\n",
    "                                      tokenizer, batch_size)\n",
    "  eval_losses = []\n",
    "  with torch.no_grad():\n",
    "    for i, (input_batch, label_batch) in enumerate(test_generator):\n",
    "      if i >= max_iters:\n",
    "        break\n",
    "\n",
    "      model_out = model.forward(\n",
    "          input_ids = input_batch,\n",
    "          labels = label_batch)\n",
    "      eval_losses.append(model_out.loss.item())\n",
    "\n",
    "  return np.mean(eval_losses)"
   ],
   "metadata": {
    "id": "ZsUpT6Yrx_ge",
    "ExecuteTime": {
     "end_time": "2024-10-10T06:54:00.206259Z",
     "start_time": "2024-10-10T06:54:00.192231Z"
    }
   },
   "outputs": [],
   "execution_count": 24
  },
  {
   "cell_type": "code",
   "source": [
    "best_test_loss = float('inf')"
   ],
   "metadata": {
    "id": "B3HQdtvuyBEk",
    "ExecuteTime": {
     "end_time": "2024-10-10T06:54:02.054115Z",
     "start_time": "2024-10-10T06:54:02.050113Z"
    }
   },
   "outputs": [],
   "execution_count": 25
  },
  {
   "cell_type": "code",
   "source": [
    "for epoch_idx in range(n_epochs):\n",
    "  data_generator = get_data(train_dataset, LANG_TOKEN_MAPPING, tokenizer, batch_size)\n",
    "\n",
    "  for batch_idx, (input_batch, label_batch) in tqdm(enumerate(data_generator), total=n_batches):\n",
    "\n",
    "    optimizer.zero_grad()\n",
    "\n",
    "    model_out = model.forward(\n",
    "        input_ids = input_batch,\n",
    "        labels = label_batch)\n",
    "\n",
    "    loss = model_out.loss\n",
    "    losses.append(loss.item())\n",
    "\n",
    "    loss.backward()\n",
    "\n",
    "    optimizer.step()\n",
    "    scheduler.step()\n",
    "\n",
    "      # Print training update info\n",
    "    if (batch_idx + 1) % print_freq == 0:\n",
    "      avg_loss = np.mean(losses[-print_freq:])\n",
    "      print('Epoch: {} | Step: {} | Avg. loss: {:.3f} | lr: {:.6f}'.format(\n",
    "          epoch_idx+1, batch_idx+1, avg_loss, scheduler.get_last_lr()[0]))\n",
    "\n",
    "    if (batch_idx + 1) % checkpoint_freq == 0:\n",
    "      test_loss = eval_model(model, test_dataset)\n",
    "      test_losses.append(test_loss)\n",
    "      print('Test loss {:.3f}'.format(test_loss))\n",
    "      if best_test_loss > test_loss:\n",
    "        print('Saving model with test loss of {:.3f}'.format(test_loss))\n",
    "        torch.save(model.state_dict(), model_path)\n",
    "        best_test_loss = test_loss\n",
    "\n",
    "  torch.save(model.state_dict(), model_path)"
   ],
   "metadata": {
    "id": "-HX9T6xKyCW4",
    "ExecuteTime": {
     "end_time": "2024-10-10T06:55:02.954973Z",
     "start_time": "2024-10-10T06:54:03.558713Z"
    }
   },
   "outputs": [
    {
     "data": {
      "text/plain": [
       "  0%|          | 0/5000 [00:00<?, ?it/s]"
      ],
      "application/vnd.jupyter.widget-view+json": {
       "version_major": 2,
       "version_minor": 0,
       "model_id": "8fb927d4f6194cacb8758b57d9ad4999"
      }
     },
     "metadata": {},
     "output_type": "display_data"
    },
    {
     "ename": "KeyboardInterrupt",
     "evalue": "",
     "output_type": "error",
     "traceback": [
      "\u001B[1;31m---------------------------------------------------------------------------\u001B[0m",
      "\u001B[1;31mKeyboardInterrupt\u001B[0m                         Traceback (most recent call last)",
      "Cell \u001B[1;32mIn[26], line 4\u001B[0m\n\u001B[0;32m      1\u001B[0m \u001B[38;5;28;01mfor\u001B[39;00m epoch_idx \u001B[38;5;129;01min\u001B[39;00m \u001B[38;5;28mrange\u001B[39m(n_epochs):\n\u001B[0;32m      2\u001B[0m   data_generator \u001B[38;5;241m=\u001B[39m get_data(train_dataset, LANG_TOKEN_MAPPING, tokenizer, batch_size)\n\u001B[1;32m----> 4\u001B[0m   \u001B[38;5;28;01mfor\u001B[39;00m batch_idx, (input_batch, label_batch) \u001B[38;5;129;01min\u001B[39;00m tqdm(\u001B[38;5;28menumerate\u001B[39m(data_generator), total\u001B[38;5;241m=\u001B[39mn_batches):\n\u001B[0;32m      6\u001B[0m     optimizer\u001B[38;5;241m.\u001B[39mzero_grad()\n\u001B[0;32m      8\u001B[0m     model_out \u001B[38;5;241m=\u001B[39m model\u001B[38;5;241m.\u001B[39mforward(\n\u001B[0;32m      9\u001B[0m         input_ids \u001B[38;5;241m=\u001B[39m input_batch,\n\u001B[0;32m     10\u001B[0m         labels \u001B[38;5;241m=\u001B[39m label_batch)\n",
      "File \u001B[1;32m~\\Desktop\\Питон\\fine\\.venv\\lib\\site-packages\\tqdm\\notebook.py:250\u001B[0m, in \u001B[0;36mtqdm_notebook.__iter__\u001B[1;34m(self)\u001B[0m\n\u001B[0;32m    248\u001B[0m \u001B[38;5;28;01mtry\u001B[39;00m:\n\u001B[0;32m    249\u001B[0m     it \u001B[38;5;241m=\u001B[39m \u001B[38;5;28msuper\u001B[39m()\u001B[38;5;241m.\u001B[39m\u001B[38;5;21m__iter__\u001B[39m()\n\u001B[1;32m--> 250\u001B[0m     \u001B[38;5;28;01mfor\u001B[39;00m obj \u001B[38;5;129;01min\u001B[39;00m it:\n\u001B[0;32m    251\u001B[0m         \u001B[38;5;66;03m# return super(tqdm...) will not catch exception\u001B[39;00m\n\u001B[0;32m    252\u001B[0m         \u001B[38;5;28;01myield\u001B[39;00m obj\n\u001B[0;32m    253\u001B[0m \u001B[38;5;66;03m# NB: except ... [ as ...] breaks IPython async KeyboardInterrupt\u001B[39;00m\n",
      "File \u001B[1;32m~\\Desktop\\Питон\\fine\\.venv\\lib\\site-packages\\tqdm\\std.py:1181\u001B[0m, in \u001B[0;36mtqdm.__iter__\u001B[1;34m(self)\u001B[0m\n\u001B[0;32m   1178\u001B[0m time \u001B[38;5;241m=\u001B[39m \u001B[38;5;28mself\u001B[39m\u001B[38;5;241m.\u001B[39m_time\n\u001B[0;32m   1180\u001B[0m \u001B[38;5;28;01mtry\u001B[39;00m:\n\u001B[1;32m-> 1181\u001B[0m     \u001B[38;5;28;01mfor\u001B[39;00m obj \u001B[38;5;129;01min\u001B[39;00m iterable:\n\u001B[0;32m   1182\u001B[0m         \u001B[38;5;28;01myield\u001B[39;00m obj\n\u001B[0;32m   1183\u001B[0m         \u001B[38;5;66;03m# Update and possibly print the progressbar.\u001B[39;00m\n\u001B[0;32m   1184\u001B[0m         \u001B[38;5;66;03m# Note: does not call self.update(1) for speed optimisation.\u001B[39;00m\n",
      "Cell \u001B[1;32mIn[20], line 66\u001B[0m, in \u001B[0;36mget_data\u001B[1;34m(dataset, lang_token_map, tokenizer, batch_size)\u001B[0m\n\u001B[0;32m     63\u001B[0m \u001B[38;5;28;01mfor\u001B[39;00m i \u001B[38;5;129;01min\u001B[39;00m \u001B[38;5;28mrange\u001B[39m(\u001B[38;5;241m0\u001B[39m, \u001B[38;5;28mlen\u001B[39m(dataset), batch_size):\n\u001B[0;32m     64\u001B[0m   raw_batch \u001B[38;5;241m=\u001B[39m dataset[i:i\u001B[38;5;241m+\u001B[39mbatch_size]\n\u001B[1;32m---> 66\u001B[0m   \u001B[38;5;28;01myield\u001B[39;00m \u001B[43mtransform_batch\u001B[49m\u001B[43m(\u001B[49m\u001B[43mraw_batch\u001B[49m\u001B[43m,\u001B[49m\u001B[43m \u001B[49m\u001B[43mlang_token_map\u001B[49m\u001B[43m,\u001B[49m\u001B[43m \u001B[49m\u001B[43mtokenizer\u001B[49m\u001B[43m)\u001B[49m\n",
      "Cell \u001B[1;32mIn[20], line 56\u001B[0m, in \u001B[0;36mtransform_batch\u001B[1;34m(batch, lang_token_map, tokenizer)\u001B[0m\n\u001B[0;32m     53\u001B[0m   inputs\u001B[38;5;241m.\u001B[39mappend(input_ids\u001B[38;5;241m.\u001B[39munsqueeze(\u001B[38;5;241m0\u001B[39m))\n\u001B[0;32m     54\u001B[0m   targets\u001B[38;5;241m.\u001B[39mappend(target_ids\u001B[38;5;241m.\u001B[39munsqueeze(\u001B[38;5;241m0\u001B[39m))\n\u001B[1;32m---> 56\u001B[0m batch_input_ids \u001B[38;5;241m=\u001B[39m \u001B[43mtorch\u001B[49m\u001B[38;5;241;43m.\u001B[39;49m\u001B[43mcat\u001B[49m\u001B[43m(\u001B[49m\u001B[43minputs\u001B[49m\u001B[43m)\u001B[49m\u001B[38;5;241;43m.\u001B[39;49m\u001B[43mcuda\u001B[49m\u001B[43m(\u001B[49m\u001B[43m)\u001B[49m\n\u001B[0;32m     57\u001B[0m batch_target_ids \u001B[38;5;241m=\u001B[39m torch\u001B[38;5;241m.\u001B[39mcat(targets)\u001B[38;5;241m.\u001B[39mcuda()\n\u001B[0;32m     59\u001B[0m \u001B[38;5;28;01mreturn\u001B[39;00m batch_input_ids, batch_target_ids\n",
      "\u001B[1;31mKeyboardInterrupt\u001B[0m: "
     ]
    }
   ],
   "execution_count": 26
  },
  {
   "cell_type": "code",
   "source": [
    "window_size = 50\n",
    "smoothed_losses = []\n",
    "for i in range(len(losses)-window_size):\n",
    "  smoothed_losses.append(np.mean(losses[i:i+window_size]))\n",
    "\n",
    "plt.plot(smoothed_losses[100:])"
   ],
   "metadata": {
    "id": "kVMxcrWuyEuA",
    "ExecuteTime": {
     "end_time": "2024-10-10T06:55:10.426136Z",
     "start_time": "2024-10-10T06:55:10.083137Z"
    }
   },
   "outputs": [
    {
     "data": {
      "text/plain": [
       "[<matplotlib.lines.Line2D at 0x1fa89211f40>]"
      ]
     },
     "execution_count": 27,
     "metadata": {},
     "output_type": "execute_result"
    },
    {
     "data": {
      "text/plain": [
       "<Figure size 640x480 with 1 Axes>"
      ],
      "image/png": "[encoded data removed]"
     },
     "metadata": {},
     "output_type": "display_data"
    }
   ],
   "execution_count": 27
  },
  {
   "cell_type": "code",
   "source": [
    "torch.save(model.state_dict(), model_path_last)"
   ],
   "metadata": {
    "id": "6tkGzE2kyJLt",
    "ExecuteTime": {
     "end_time": "2024-10-10T06:55:17.578721Z",
     "start_time": "2024-10-10T06:55:17.409820Z"
    }
   },
   "outputs": [
    {
     "ename": "RuntimeError",
     "evalue": "File /mt5_translation_example_last.pt cannot be opened.",
     "output_type": "error",
     "traceback": [
      "\u001B[1;31m---------------------------------------------------------------------------\u001B[0m",
      "\u001B[1;31mRuntimeError\u001B[0m                              Traceback (most recent call last)",
      "Cell \u001B[1;32mIn[28], line 1\u001B[0m\n\u001B[1;32m----> 1\u001B[0m \u001B[43mtorch\u001B[49m\u001B[38;5;241;43m.\u001B[39;49m\u001B[43msave\u001B[49m\u001B[43m(\u001B[49m\u001B[43mmodel\u001B[49m\u001B[38;5;241;43m.\u001B[39;49m\u001B[43mstate_dict\u001B[49m\u001B[43m(\u001B[49m\u001B[43m)\u001B[49m\u001B[43m,\u001B[49m\u001B[43m \u001B[49m\u001B[43mmodel_path_last\u001B[49m\u001B[43m)\u001B[49m\n",
      "File \u001B[1;32m~\\Desktop\\Питон\\fine\\.venv\\lib\\site-packages\\torch\\serialization.py:651\u001B[0m, in \u001B[0;36msave\u001B[1;34m(obj, f, pickle_module, pickle_protocol, _use_new_zipfile_serialization, _disable_byteorder_record)\u001B[0m\n\u001B[0;32m    648\u001B[0m _check_save_filelike(f)\n\u001B[0;32m    650\u001B[0m \u001B[38;5;28;01mif\u001B[39;00m _use_new_zipfile_serialization:\n\u001B[1;32m--> 651\u001B[0m     \u001B[38;5;28;01mwith\u001B[39;00m \u001B[43m_open_zipfile_writer\u001B[49m\u001B[43m(\u001B[49m\u001B[43mf\u001B[49m\u001B[43m)\u001B[49m \u001B[38;5;28;01mas\u001B[39;00m opened_zipfile:\n\u001B[0;32m    652\u001B[0m         _save(obj, opened_zipfile, pickle_module, pickle_protocol, _disable_byteorder_record)\n\u001B[0;32m    653\u001B[0m         \u001B[38;5;28;01mreturn\u001B[39;00m\n",
      "File \u001B[1;32m~\\Desktop\\Питон\\fine\\.venv\\lib\\site-packages\\torch\\serialization.py:525\u001B[0m, in \u001B[0;36m_open_zipfile_writer\u001B[1;34m(name_or_buffer)\u001B[0m\n\u001B[0;32m    523\u001B[0m \u001B[38;5;28;01melse\u001B[39;00m:\n\u001B[0;32m    524\u001B[0m     container \u001B[38;5;241m=\u001B[39m _open_zipfile_writer_buffer\n\u001B[1;32m--> 525\u001B[0m \u001B[38;5;28;01mreturn\u001B[39;00m \u001B[43mcontainer\u001B[49m\u001B[43m(\u001B[49m\u001B[43mname_or_buffer\u001B[49m\u001B[43m)\u001B[49m\n",
      "File \u001B[1;32m~\\Desktop\\Питон\\fine\\.venv\\lib\\site-packages\\torch\\serialization.py:496\u001B[0m, in \u001B[0;36m_open_zipfile_writer_file.__init__\u001B[1;34m(self, name)\u001B[0m\n\u001B[0;32m    494\u001B[0m     \u001B[38;5;28msuper\u001B[39m()\u001B[38;5;241m.\u001B[39m\u001B[38;5;21m__init__\u001B[39m(torch\u001B[38;5;241m.\u001B[39m_C\u001B[38;5;241m.\u001B[39mPyTorchFileWriter(\u001B[38;5;28mself\u001B[39m\u001B[38;5;241m.\u001B[39mfile_stream))\n\u001B[0;32m    495\u001B[0m \u001B[38;5;28;01melse\u001B[39;00m:\n\u001B[1;32m--> 496\u001B[0m     \u001B[38;5;28msuper\u001B[39m()\u001B[38;5;241m.\u001B[39m\u001B[38;5;21m__init__\u001B[39m(\u001B[43mtorch\u001B[49m\u001B[38;5;241;43m.\u001B[39;49m\u001B[43m_C\u001B[49m\u001B[38;5;241;43m.\u001B[39;49m\u001B[43mPyTorchFileWriter\u001B[49m\u001B[43m(\u001B[49m\u001B[38;5;28;43mself\u001B[39;49m\u001B[38;5;241;43m.\u001B[39;49m\u001B[43mname\u001B[49m\u001B[43m)\u001B[49m)\n",
      "\u001B[1;31mRuntimeError\u001B[0m: File /mt5_translation_example_last.pt cannot be opened."
     ]
    }
   ],
   "execution_count": 28
  },
  {
   "cell_type": "markdown",
   "source": [
    "#Test"
   ],
   "metadata": {
    "id": "VQ7Kub_SyMBY"
   }
  },
  {
   "cell_type": "code",
   "source": [
    "test_sentence = test_dataset[16]['en']\n",
    "print('Raw input text:', test_sentence)\n",
    "\n",
    "input_ids = encode_input_str(\n",
    "    text = test_sentence,\n",
    "    target_lang = 'ru',\n",
    "    tokenizer = tokenizer,\n",
    "    seq_len = model.config.max_length,\n",
    "    lang_token_map = LANG_TOKEN_MAPPING)\n",
    "\n",
    "input_ids = input_ids.unsqueeze(0).cuda()\n",
    "\n",
    "print('Truncated input text:', tokenizer.convert_tokens_to_string(\n",
    "    tokenizer.convert_ids_to_tokens(input_ids[0])))"
   ],
   "metadata": {
    "id": "qrjNQZhkyN_k",
    "ExecuteTime": {
     "end_time": "2024-10-10T06:55:28.836044Z",
     "start_time": "2024-10-10T06:55:28.809048Z"
    }
   },
   "outputs": [
    {
     "name": "stdout",
     "output_type": "stream",
     "text": [
      "Raw input text: There is no anwser for your question. \n",
      "Truncated input text: <ru> There is no anwser for your question.</s><pad><pad><pad><pad><pad><pad><pad>\n"
     ]
    }
   ],
   "execution_count": 29
  },
  {
   "cell_type": "code",
   "source": [
    "output_tokens = model.generate(input_ids, num_beams=10, num_return_sequences=3)\n",
    "\n",
    "for token_set in output_tokens:\n",
    "  print(tokenizer.decode(token_set, skip_special_tokens=True))"
   ],
   "metadata": {
    "id": "_BEbmk7fyP07",
    "ExecuteTime": {
     "end_time": "2024-10-10T06:55:36.826639Z",
     "start_time": "2024-10-10T06:55:36.047131Z"
    }
   },
   "outputs": [
    {
     "name": "stderr",
     "output_type": "stream",
     "text": [
      "C:\\Users\\Admin\\Desktop\\Питон\\fine\\.venv\\lib\\site-packages\\transformers\\generation\\utils.py:1220: UserWarning: Using the model-agnostic default `max_length` (=20) to control the generation length. We recommend setting `max_new_tokens` to control the maximum length of the generation.\n",
      "  warnings.warn(\n"
     ]
    },
    {
     "name": "stdout",
     "output_type": "stream",
     "text": [
      "<extra_id_0> for a question\n",
      "<extra_id_0>. .\n",
      "<extra_id_0>. You are here\n"
     ]
    }
   ],
   "execution_count": 30
  },
  {
   "cell_type": "code",
   "source": [
    "def translate(text, lang_from, lang_to):\n",
    "\n",
    "  input_ids = encode_input_str(\n",
    "      text = text,\n",
    "      target_lang = lang_to,\n",
    "      tokenizer = tokenizer,\n",
    "      seq_len = model.config.max_length,\n",
    "      lang_token_map = LANG_TOKEN_MAPPING)\n",
    "\n",
    "  input_ids = input_ids.unsqueeze(0).cuda()\n",
    "\n",
    "  output_tokens = model.generate(input_ids, num_beams=10, num_return_sequences=1)\n",
    "\n",
    "  res = tokenizer.decode(output_tokens[0], skip_special_tokens=True)\n",
    "\n",
    "  return res\n",
    "\n",
    "def translate_to_english(text):\n",
    "  return translate(text, 'ru', 'en')\n",
    "\n",
    "def translate_to_russian(text):\n",
    "  return translate(text, 'en', 'ru')\n",
    ""
   ],
   "metadata": {
    "id": "hrN7gKv2yRao",
    "ExecuteTime": {
     "end_time": "2024-10-10T06:55:50.147220Z",
     "start_time": "2024-10-10T06:55:50.133222Z"
    }
   },
   "outputs": [],
   "execution_count": 31
  },
  {
   "cell_type": "code",
   "source": [
    "translate_to_english('Лондон — столица Великобритании')"
   ],
   "metadata": {
    "id": "ssKcsQq4yUlV",
    "ExecuteTime": {
     "end_time": "2024-10-10T06:55:57.714230Z",
     "start_time": "2024-10-10T06:55:57.101838Z"
    }
   },
   "outputs": [
    {
     "data": {
      "text/plain": [
       "'<extra_id_0> Лондон'"
      ]
     },
     "execution_count": 32,
     "metadata": {},
     "output_type": "execute_result"
    }
   ],
   "execution_count": 32
  },
  {
   "metadata": {},
   "cell_type": "code",
   "outputs": [],
   "execution_count": null,
   "source": ""
  }
 ]
}
